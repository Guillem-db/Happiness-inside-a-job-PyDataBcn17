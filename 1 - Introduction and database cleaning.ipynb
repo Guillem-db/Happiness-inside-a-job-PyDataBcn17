{
 "cells": [
  {
   "cell_type": "code",
   "execution_count": 1,
   "metadata": {
    "collapsed": true
   },
   "outputs": [],
   "source": [
    "import numpy as np\n",
    "import pandas as pd"
   ]
  },
  {
   "cell_type": "markdown",
   "metadata": {},
   "source": [
    "# Happiness inside a job: a social network analysis"
   ]
  },
  {
   "cell_type": "markdown",
   "metadata": {},
   "source": [
    "## Index\n",
    "\n",
    "1. [Structure of the database](#1.-Structure-of-the-database)"
   ]
  },
  {
   "cell_type": "markdown",
   "metadata": {},
   "source": [
    "# 1. Structure of the database"
   ]
  },
  {
   "cell_type": "markdown",
   "metadata": {},
   "source": [
    "## 1.1 What is Happyforce"
   ]
  },
  {
   "cell_type": "markdown",
   "metadata": {},
   "source": [
    "During these examples we will be dealing with a database provided by **[Happyforce](http://www.myhappyforce.com/es/#four-steps)**.  It contains anonimized information about the votes, comments and interactions among the different users of the application. #TODO: detailed introduction."
   ]
  },
  {
   "cell_type": "markdown",
   "metadata": {},
   "source": [
    "TODO: expain how the app work +images"
   ]
  },
  {
   "cell_type": "markdown",
   "metadata": {},
   "source": [
    "## 1.2 Happyness votes data"
   ]
  },
  {
   "cell_type": "markdown",
   "metadata": {},
   "source": [
    "The data regarding the votes of the app users is stored in **votes.csv**. This file containg 4 different columns:\n",
    "\n",
    "- **employee**: An integer id that identifies an amployee inside a company.\n",
    "- **companyAlias**: A hash id for a given company that uses the app. An employee can be uniquely identified with the tuple (employee,companyAlias).\n",
    "- **voteDate**: String representing the date a given vote was emited.\n",
    "- **vote**: The numeric value of the vote emited ranging from 1 to 4."
   ]
  },
  {
   "cell_type": "code",
   "execution_count": 2,
   "metadata": {},
   "outputs": [
    {
     "data": {
      "text/html": [
       "<div>\n",
       "<style>\n",
       "    .dataframe thead tr:only-child th {\n",
       "        text-align: right;\n",
       "    }\n",
       "\n",
       "    .dataframe thead th {\n",
       "        text-align: left;\n",
       "    }\n",
       "\n",
       "    .dataframe tbody tr th {\n",
       "        vertical-align: top;\n",
       "    }\n",
       "</style>\n",
       "<table border=\"1\" class=\"dataframe\">\n",
       "  <thead>\n",
       "    <tr style=\"text-align: right;\">\n",
       "      <th></th>\n",
       "      <th>employee</th>\n",
       "      <th>companyAlias</th>\n",
       "      <th>voteDate</th>\n",
       "      <th>vote</th>\n",
       "    </tr>\n",
       "  </thead>\n",
       "  <tbody>\n",
       "    <tr>\n",
       "      <th>0</th>\n",
       "      <td>31</td>\n",
       "      <td>56aec740f1ef260003e307d6</td>\n",
       "      <td>2016-02-01</td>\n",
       "      <td>4</td>\n",
       "    </tr>\n",
       "    <tr>\n",
       "      <th>1</th>\n",
       "      <td>33</td>\n",
       "      <td>56aec740f1ef260003e307d6</td>\n",
       "      <td>2016-02-01</td>\n",
       "      <td>4</td>\n",
       "    </tr>\n",
       "    <tr>\n",
       "      <th>2</th>\n",
       "      <td>79</td>\n",
       "      <td>56aec740f1ef260003e307d6</td>\n",
       "      <td>2016-02-01</td>\n",
       "      <td>4</td>\n",
       "    </tr>\n",
       "  </tbody>\n",
       "</table>\n",
       "</div>"
      ],
      "text/plain": [
       "   employee              companyAlias   voteDate  vote\n",
       "0        31  56aec740f1ef260003e307d6 2016-02-01     4\n",
       "1        33  56aec740f1ef260003e307d6 2016-02-01     4\n",
       "2        79  56aec740f1ef260003e307d6 2016-02-01     4"
      ]
     },
     "execution_count": 2,
     "metadata": {},
     "output_type": "execute_result"
    }
   ],
   "source": [
    "votes = pd.read_csv('data/votes.csv',parse_dates=[2]).drop_duplicates()\n",
    "votes.head(3)"
   ]
  },
  {
   "cell_type": "code",
   "execution_count": 3,
   "metadata": {},
   "outputs": [
    {
     "data": {
      "text/html": [
       "<div>\n",
       "<style>\n",
       "    .dataframe thead tr:only-child th {\n",
       "        text-align: right;\n",
       "    }\n",
       "\n",
       "    .dataframe thead th {\n",
       "        text-align: left;\n",
       "    }\n",
       "\n",
       "    .dataframe tbody tr th {\n",
       "        vertical-align: top;\n",
       "    }\n",
       "</style>\n",
       "<table border=\"1\" class=\"dataframe\">\n",
       "  <thead>\n",
       "    <tr style=\"text-align: right;\">\n",
       "      <th></th>\n",
       "      <th></th>\n",
       "      <th>vote</th>\n",
       "    </tr>\n",
       "    <tr>\n",
       "      <th>employee</th>\n",
       "      <th>companyAlias</th>\n",
       "      <th></th>\n",
       "    </tr>\n",
       "  </thead>\n",
       "  <tbody>\n",
       "    <tr>\n",
       "      <th rowspan=\"24\" valign=\"top\">1</th>\n",
       "      <th>5474b9cde4b0bf7614b2c66f</th>\n",
       "      <td>4.000000</td>\n",
       "    </tr>\n",
       "    <tr>\n",
       "      <th>54d43612e4b0f6a40755d93e</th>\n",
       "      <td>3.125000</td>\n",
       "    </tr>\n",
       "    <tr>\n",
       "      <th>54e52607e4b01191dc064966</th>\n",
       "      <td>2.985075</td>\n",
       "    </tr>\n",
       "    <tr>\n",
       "      <th>5641f96713664c000332c8cd</th>\n",
       "      <td>3.171206</td>\n",
       "    </tr>\n",
       "    <tr>\n",
       "      <th>56558cfd07a5de00030908fb</th>\n",
       "      <td>3.500000</td>\n",
       "    </tr>\n",
       "    <tr>\n",
       "      <th>567011c035dce00003a07fa4</th>\n",
       "      <td>3.000000</td>\n",
       "    </tr>\n",
       "    <tr>\n",
       "      <th>56ae7b02f1ef260003e3072c</th>\n",
       "      <td>3.600000</td>\n",
       "    </tr>\n",
       "    <tr>\n",
       "      <th>56e2a905e3b6fe0003e32855</th>\n",
       "      <td>2.917127</td>\n",
       "    </tr>\n",
       "    <tr>\n",
       "      <th>5742d699f839a10003a407d2</th>\n",
       "      <td>3.972881</td>\n",
       "    </tr>\n",
       "    <tr>\n",
       "      <th>574c423856b6300003009953</th>\n",
       "      <td>3.869919</td>\n",
       "    </tr>\n",
       "    <tr>\n",
       "      <th>574c5ade56b6300003009965</th>\n",
       "      <td>2.993789</td>\n",
       "    </tr>\n",
       "    <tr>\n",
       "      <th>57908a2622881200033b34d7</th>\n",
       "      <td>3.309735</td>\n",
       "    </tr>\n",
       "    <tr>\n",
       "      <th>57bb2f0b3bae540003a8d453</th>\n",
       "      <td>3.351064</td>\n",
       "    </tr>\n",
       "    <tr>\n",
       "      <th>57d1eb86a22c9d0003dd1f05</th>\n",
       "      <td>3.847134</td>\n",
       "    </tr>\n",
       "    <tr>\n",
       "      <th>57d979b72a040a00036a8925</th>\n",
       "      <td>3.640000</td>\n",
       "    </tr>\n",
       "    <tr>\n",
       "      <th>57dd2d6a4018d9000339ca43</th>\n",
       "      <td>2.676471</td>\n",
       "    </tr>\n",
       "    <tr>\n",
       "      <th>57fcf18712cdbd000396e310</th>\n",
       "      <td>4.000000</td>\n",
       "    </tr>\n",
       "    <tr>\n",
       "      <th>5809cc9eff2ea40003fda44d</th>\n",
       "      <td>1.750000</td>\n",
       "    </tr>\n",
       "    <tr>\n",
       "      <th>5809cde3ff2ea40003fda452</th>\n",
       "      <td>4.000000</td>\n",
       "    </tr>\n",
       "    <tr>\n",
       "      <th>581b08041a0ef8000308aef6</th>\n",
       "      <td>2.464286</td>\n",
       "    </tr>\n",
       "    <tr>\n",
       "      <th>58a728a0e75bda00042a3468</th>\n",
       "      <td>3.500000</td>\n",
       "    </tr>\n",
       "    <tr>\n",
       "      <th>58b471b384db3200044dd1b9</th>\n",
       "      <td>3.454545</td>\n",
       "    </tr>\n",
       "    <tr>\n",
       "      <th>58b9adfce75bf80004df6536</th>\n",
       "      <td>3.200000</td>\n",
       "    </tr>\n",
       "    <tr>\n",
       "      <th>58c6e15f32f72a00046f556c</th>\n",
       "      <td>2.000000</td>\n",
       "    </tr>\n",
       "    <tr>\n",
       "      <th rowspan=\"6\" valign=\"top\">2</th>\n",
       "      <th>54d43612e4b0f6a40755d93e</th>\n",
       "      <td>3.344262</td>\n",
       "    </tr>\n",
       "    <tr>\n",
       "      <th>54e52607e4b01191dc064966</th>\n",
       "      <td>1.043077</td>\n",
       "    </tr>\n",
       "    <tr>\n",
       "      <th>552e2d00e4b066b42fd122ed</th>\n",
       "      <td>2.647059</td>\n",
       "    </tr>\n",
       "    <tr>\n",
       "      <th>5641f96713664c000332c8cd</th>\n",
       "      <td>2.469697</td>\n",
       "    </tr>\n",
       "    <tr>\n",
       "      <th>56558cfd07a5de00030908fb</th>\n",
       "      <td>1.666667</td>\n",
       "    </tr>\n",
       "    <tr>\n",
       "      <th>567011c035dce00003a07fa4</th>\n",
       "      <td>3.416667</td>\n",
       "    </tr>\n",
       "    <tr>\n",
       "      <th>...</th>\n",
       "      <th>...</th>\n",
       "      <td>...</td>\n",
       "    </tr>\n",
       "    <tr>\n",
       "      <th>945</th>\n",
       "      <th>54e52607e4b01191dc064966</th>\n",
       "      <td>4.000000</td>\n",
       "    </tr>\n",
       "    <tr>\n",
       "      <th>947</th>\n",
       "      <th>54e52607e4b01191dc064966</th>\n",
       "      <td>3.157895</td>\n",
       "    </tr>\n",
       "    <tr>\n",
       "      <th>948</th>\n",
       "      <th>54e52607e4b01191dc064966</th>\n",
       "      <td>3.222222</td>\n",
       "    </tr>\n",
       "    <tr>\n",
       "      <th>949</th>\n",
       "      <th>54e52607e4b01191dc064966</th>\n",
       "      <td>3.029046</td>\n",
       "    </tr>\n",
       "    <tr>\n",
       "      <th>951</th>\n",
       "      <th>54e52607e4b01191dc064966</th>\n",
       "      <td>2.352941</td>\n",
       "    </tr>\n",
       "    <tr>\n",
       "      <th>952</th>\n",
       "      <th>54e52607e4b01191dc064966</th>\n",
       "      <td>4.000000</td>\n",
       "    </tr>\n",
       "    <tr>\n",
       "      <th>954</th>\n",
       "      <th>54e52607e4b01191dc064966</th>\n",
       "      <td>4.000000</td>\n",
       "    </tr>\n",
       "    <tr>\n",
       "      <th>955</th>\n",
       "      <th>54e52607e4b01191dc064966</th>\n",
       "      <td>2.947368</td>\n",
       "    </tr>\n",
       "    <tr>\n",
       "      <th>956</th>\n",
       "      <th>54e52607e4b01191dc064966</th>\n",
       "      <td>3.044944</td>\n",
       "    </tr>\n",
       "    <tr>\n",
       "      <th>957</th>\n",
       "      <th>54e52607e4b01191dc064966</th>\n",
       "      <td>2.333333</td>\n",
       "    </tr>\n",
       "    <tr>\n",
       "      <th>958</th>\n",
       "      <th>54e52607e4b01191dc064966</th>\n",
       "      <td>3.000000</td>\n",
       "    </tr>\n",
       "    <tr>\n",
       "      <th>959</th>\n",
       "      <th>54e52607e4b01191dc064966</th>\n",
       "      <td>3.000000</td>\n",
       "    </tr>\n",
       "    <tr>\n",
       "      <th>962</th>\n",
       "      <th>54e52607e4b01191dc064966</th>\n",
       "      <td>2.600000</td>\n",
       "    </tr>\n",
       "    <tr>\n",
       "      <th>964</th>\n",
       "      <th>54e52607e4b01191dc064966</th>\n",
       "      <td>1.316017</td>\n",
       "    </tr>\n",
       "    <tr>\n",
       "      <th>966</th>\n",
       "      <th>54e52607e4b01191dc064966</th>\n",
       "      <td>2.911111</td>\n",
       "    </tr>\n",
       "    <tr>\n",
       "      <th>967</th>\n",
       "      <th>54e52607e4b01191dc064966</th>\n",
       "      <td>2.841584</td>\n",
       "    </tr>\n",
       "    <tr>\n",
       "      <th>968</th>\n",
       "      <th>54e52607e4b01191dc064966</th>\n",
       "      <td>2.000000</td>\n",
       "    </tr>\n",
       "    <tr>\n",
       "      <th>969</th>\n",
       "      <th>54e52607e4b01191dc064966</th>\n",
       "      <td>3.222222</td>\n",
       "    </tr>\n",
       "    <tr>\n",
       "      <th>970</th>\n",
       "      <th>54e52607e4b01191dc064966</th>\n",
       "      <td>2.416667</td>\n",
       "    </tr>\n",
       "    <tr>\n",
       "      <th>972</th>\n",
       "      <th>54e52607e4b01191dc064966</th>\n",
       "      <td>3.250000</td>\n",
       "    </tr>\n",
       "    <tr>\n",
       "      <th>975</th>\n",
       "      <th>54e52607e4b01191dc064966</th>\n",
       "      <td>4.000000</td>\n",
       "    </tr>\n",
       "    <tr>\n",
       "      <th>977</th>\n",
       "      <th>54e52607e4b01191dc064966</th>\n",
       "      <td>3.000000</td>\n",
       "    </tr>\n",
       "    <tr>\n",
       "      <th>979</th>\n",
       "      <th>54e52607e4b01191dc064966</th>\n",
       "      <td>3.000000</td>\n",
       "    </tr>\n",
       "    <tr>\n",
       "      <th>984</th>\n",
       "      <th>54e52607e4b01191dc064966</th>\n",
       "      <td>3.200000</td>\n",
       "    </tr>\n",
       "    <tr>\n",
       "      <th>989</th>\n",
       "      <th>54e52607e4b01191dc064966</th>\n",
       "      <td>3.000000</td>\n",
       "    </tr>\n",
       "    <tr>\n",
       "      <th>991</th>\n",
       "      <th>54e52607e4b01191dc064966</th>\n",
       "      <td>3.000000</td>\n",
       "    </tr>\n",
       "    <tr>\n",
       "      <th>995</th>\n",
       "      <th>54e52607e4b01191dc064966</th>\n",
       "      <td>2.666667</td>\n",
       "    </tr>\n",
       "    <tr>\n",
       "      <th>996</th>\n",
       "      <th>54e52607e4b01191dc064966</th>\n",
       "      <td>2.450000</td>\n",
       "    </tr>\n",
       "    <tr>\n",
       "      <th>997</th>\n",
       "      <th>54e52607e4b01191dc064966</th>\n",
       "      <td>3.000000</td>\n",
       "    </tr>\n",
       "    <tr>\n",
       "      <th>999</th>\n",
       "      <th>54e52607e4b01191dc064966</th>\n",
       "      <td>2.850000</td>\n",
       "    </tr>\n",
       "  </tbody>\n",
       "</table>\n",
       "<p>4377 rows × 1 columns</p>\n",
       "</div>"
      ],
      "text/plain": [
       "                                       vote\n",
       "employee companyAlias                      \n",
       "1        5474b9cde4b0bf7614b2c66f  4.000000\n",
       "         54d43612e4b0f6a40755d93e  3.125000\n",
       "         54e52607e4b01191dc064966  2.985075\n",
       "         5641f96713664c000332c8cd  3.171206\n",
       "         56558cfd07a5de00030908fb  3.500000\n",
       "         567011c035dce00003a07fa4  3.000000\n",
       "         56ae7b02f1ef260003e3072c  3.600000\n",
       "         56e2a905e3b6fe0003e32855  2.917127\n",
       "         5742d699f839a10003a407d2  3.972881\n",
       "         574c423856b6300003009953  3.869919\n",
       "         574c5ade56b6300003009965  2.993789\n",
       "         57908a2622881200033b34d7  3.309735\n",
       "         57bb2f0b3bae540003a8d453  3.351064\n",
       "         57d1eb86a22c9d0003dd1f05  3.847134\n",
       "         57d979b72a040a00036a8925  3.640000\n",
       "         57dd2d6a4018d9000339ca43  2.676471\n",
       "         57fcf18712cdbd000396e310  4.000000\n",
       "         5809cc9eff2ea40003fda44d  1.750000\n",
       "         5809cde3ff2ea40003fda452  4.000000\n",
       "         581b08041a0ef8000308aef6  2.464286\n",
       "         58a728a0e75bda00042a3468  3.500000\n",
       "         58b471b384db3200044dd1b9  3.454545\n",
       "         58b9adfce75bf80004df6536  3.200000\n",
       "         58c6e15f32f72a00046f556c  2.000000\n",
       "2        54d43612e4b0f6a40755d93e  3.344262\n",
       "         54e52607e4b01191dc064966  1.043077\n",
       "         552e2d00e4b066b42fd122ed  2.647059\n",
       "         5641f96713664c000332c8cd  2.469697\n",
       "         56558cfd07a5de00030908fb  1.666667\n",
       "         567011c035dce00003a07fa4  3.416667\n",
       "...                                     ...\n",
       "945      54e52607e4b01191dc064966  4.000000\n",
       "947      54e52607e4b01191dc064966  3.157895\n",
       "948      54e52607e4b01191dc064966  3.222222\n",
       "949      54e52607e4b01191dc064966  3.029046\n",
       "951      54e52607e4b01191dc064966  2.352941\n",
       "952      54e52607e4b01191dc064966  4.000000\n",
       "954      54e52607e4b01191dc064966  4.000000\n",
       "955      54e52607e4b01191dc064966  2.947368\n",
       "956      54e52607e4b01191dc064966  3.044944\n",
       "957      54e52607e4b01191dc064966  2.333333\n",
       "958      54e52607e4b01191dc064966  3.000000\n",
       "959      54e52607e4b01191dc064966  3.000000\n",
       "962      54e52607e4b01191dc064966  2.600000\n",
       "964      54e52607e4b01191dc064966  1.316017\n",
       "966      54e52607e4b01191dc064966  2.911111\n",
       "967      54e52607e4b01191dc064966  2.841584\n",
       "968      54e52607e4b01191dc064966  2.000000\n",
       "969      54e52607e4b01191dc064966  3.222222\n",
       "970      54e52607e4b01191dc064966  2.416667\n",
       "972      54e52607e4b01191dc064966  3.250000\n",
       "975      54e52607e4b01191dc064966  4.000000\n",
       "977      54e52607e4b01191dc064966  3.000000\n",
       "979      54e52607e4b01191dc064966  3.000000\n",
       "984      54e52607e4b01191dc064966  3.200000\n",
       "989      54e52607e4b01191dc064966  3.000000\n",
       "991      54e52607e4b01191dc064966  3.000000\n",
       "995      54e52607e4b01191dc064966  2.666667\n",
       "996      54e52607e4b01191dc064966  2.450000\n",
       "997      54e52607e4b01191dc064966  3.000000\n",
       "999      54e52607e4b01191dc064966  2.850000\n",
       "\n",
       "[4377 rows x 1 columns]"
      ]
     },
     "execution_count": 3,
     "metadata": {},
     "output_type": "execute_result"
    }
   ],
   "source": [
    "votes.groupby(['employee','companyAlias']).mean()"
   ]
  },
  {
   "cell_type": "markdown",
   "metadata": {},
   "source": [
    "## 1.3 Comments data"
   ]
  },
  {
   "cell_type": "markdown",
   "metadata": {},
   "source": [
    "It is possible to find data about the comments written in the app in the **anon_comments.csv** file, and it has the following structure:\n",
    "\n",
    "- **employee**: An integer id that identifies an amployee inside a company.\n",
    "- **companyAlias**: A hash id for a given company that uses the app. An employee can be uniquely identified with the tuple (employee,companyAlias).\n",
    "- **commentDate**: String representing the date a given comment was written.\n",
    "- **commentId**: A unique id for a given comment.\n",
    "- **comment**: Anonimized comment. It has the same length as the original comment. \n",
    "- **likes**: Number of likes that the comment received.\n",
    "- **dislikes**: Number of dislikes that the comment received."
   ]
  },
  {
   "cell_type": "code",
   "execution_count": 4,
   "metadata": {
    "scrolled": true
   },
   "outputs": [
    {
     "data": {
      "text/html": [
       "<div>\n",
       "<style>\n",
       "    .dataframe thead tr:only-child th {\n",
       "        text-align: right;\n",
       "    }\n",
       "\n",
       "    .dataframe thead th {\n",
       "        text-align: left;\n",
       "    }\n",
       "\n",
       "    .dataframe tbody tr th {\n",
       "        vertical-align: top;\n",
       "    }\n",
       "</style>\n",
       "<table border=\"1\" class=\"dataframe\">\n",
       "  <thead>\n",
       "    <tr style=\"text-align: right;\">\n",
       "      <th></th>\n",
       "      <th>employee</th>\n",
       "      <th>companyAlias</th>\n",
       "      <th>commentId</th>\n",
       "      <th>comment</th>\n",
       "      <th>likes</th>\n",
       "      <th>dislikes</th>\n",
       "      <th>commentDate</th>\n",
       "    </tr>\n",
       "  </thead>\n",
       "  <tbody>\n",
       "    <tr>\n",
       "      <th>0</th>\n",
       "      <td>307</td>\n",
       "      <td>56aec740f1ef260003e307d6</td>\n",
       "      <td>58d018d7e010990004e38070</td>\n",
       "      <td>**********************************************...</td>\n",
       "      <td>4.0</td>\n",
       "      <td>0.0</td>\n",
       "      <td>2017-03-20 18:00:17</td>\n",
       "    </tr>\n",
       "    <tr>\n",
       "      <th>1</th>\n",
       "      <td>382</td>\n",
       "      <td>56aec740f1ef260003e307d6</td>\n",
       "      <td>58d0179ae010990004e3806d</td>\n",
       "      <td>*****************************</td>\n",
       "      <td>1.0</td>\n",
       "      <td>2.0</td>\n",
       "      <td>2017-03-20 17:55:16</td>\n",
       "    </tr>\n",
       "    <tr>\n",
       "      <th>2</th>\n",
       "      <td>172</td>\n",
       "      <td>56aec740f1ef260003e307d6</td>\n",
       "      <td>58cff8cde010990004e37f6a</td>\n",
       "      <td>***************************</td>\n",
       "      <td>3.0</td>\n",
       "      <td>0.0</td>\n",
       "      <td>2017-03-20 15:44:02</td>\n",
       "    </tr>\n",
       "  </tbody>\n",
       "</table>\n",
       "</div>"
      ],
      "text/plain": [
       "   employee              companyAlias                 commentId  \\\n",
       "0       307  56aec740f1ef260003e307d6  58d018d7e010990004e38070   \n",
       "1       382  56aec740f1ef260003e307d6  58d0179ae010990004e3806d   \n",
       "2       172  56aec740f1ef260003e307d6  58cff8cde010990004e37f6a   \n",
       "\n",
       "                                             comment  likes  dislikes  \\\n",
       "0  **********************************************...    4.0       0.0   \n",
       "1                      *****************************    1.0       2.0   \n",
       "2                        ***************************    3.0       0.0   \n",
       "\n",
       "          commentDate  \n",
       "0 2017-03-20 18:00:17  \n",
       "1 2017-03-20 17:55:16  \n",
       "2 2017-03-20 15:44:02  "
      ]
     },
     "execution_count": 4,
     "metadata": {},
     "output_type": "execute_result"
    }
   ],
   "source": [
    "comments = comments = pd.read_csv('data/anon_comments.csv',parse_dates=[-1]).drop('Unnamed: 0',axis=1)\n",
    "comments.head(3)"
   ]
  },
  {
   "cell_type": "code",
   "execution_count": 5,
   "metadata": {},
   "outputs": [
    {
     "data": {
      "text/html": [
       "<div>\n",
       "<style>\n",
       "    .dataframe thead tr:only-child th {\n",
       "        text-align: right;\n",
       "    }\n",
       "\n",
       "    .dataframe thead th {\n",
       "        text-align: left;\n",
       "    }\n",
       "\n",
       "    .dataframe tbody tr th {\n",
       "        vertical-align: top;\n",
       "    }\n",
       "</style>\n",
       "<table border=\"1\" class=\"dataframe\">\n",
       "  <thead>\n",
       "    <tr style=\"text-align: right;\">\n",
       "      <th></th>\n",
       "      <th>employee</th>\n",
       "      <th>likes</th>\n",
       "      <th>dislikes</th>\n",
       "    </tr>\n",
       "  </thead>\n",
       "  <tbody>\n",
       "    <tr>\n",
       "      <th>count</th>\n",
       "      <td>42019.000000</td>\n",
       "      <td>42018.000000</td>\n",
       "      <td>42018.000000</td>\n",
       "    </tr>\n",
       "    <tr>\n",
       "      <th>mean</th>\n",
       "      <td>135.022656</td>\n",
       "      <td>6.889595</td>\n",
       "      <td>1.287234</td>\n",
       "    </tr>\n",
       "    <tr>\n",
       "      <th>std</th>\n",
       "      <td>162.893510</td>\n",
       "      <td>7.719326</td>\n",
       "      <td>2.740623</td>\n",
       "    </tr>\n",
       "    <tr>\n",
       "      <th>min</th>\n",
       "      <td>-217.000000</td>\n",
       "      <td>0.000000</td>\n",
       "      <td>0.000000</td>\n",
       "    </tr>\n",
       "    <tr>\n",
       "      <th>25%</th>\n",
       "      <td>28.000000</td>\n",
       "      <td>2.000000</td>\n",
       "      <td>0.000000</td>\n",
       "    </tr>\n",
       "    <tr>\n",
       "      <th>50%</th>\n",
       "      <td>101.000000</td>\n",
       "      <td>4.000000</td>\n",
       "      <td>0.000000</td>\n",
       "    </tr>\n",
       "    <tr>\n",
       "      <th>75%</th>\n",
       "      <td>197.000000</td>\n",
       "      <td>9.000000</td>\n",
       "      <td>1.000000</td>\n",
       "    </tr>\n",
       "    <tr>\n",
       "      <th>max</th>\n",
       "      <td>999.000000</td>\n",
       "      <td>86.000000</td>\n",
       "      <td>53.000000</td>\n",
       "    </tr>\n",
       "  </tbody>\n",
       "</table>\n",
       "</div>"
      ],
      "text/plain": [
       "           employee         likes      dislikes\n",
       "count  42019.000000  42018.000000  42018.000000\n",
       "mean     135.022656      6.889595      1.287234\n",
       "std      162.893510      7.719326      2.740623\n",
       "min     -217.000000      0.000000      0.000000\n",
       "25%       28.000000      2.000000      0.000000\n",
       "50%      101.000000      4.000000      0.000000\n",
       "75%      197.000000      9.000000      1.000000\n",
       "max      999.000000     86.000000     53.000000"
      ]
     },
     "execution_count": 5,
     "metadata": {},
     "output_type": "execute_result"
    }
   ],
   "source": [
    "comments.describe()"
   ]
  },
  {
   "cell_type": "markdown",
   "metadata": {},
   "source": [
    "## 1.3 Employee Interactions"
   ]
  },
  {
   "cell_type": "markdown",
   "metadata": {},
   "source": [
    "The file **commentInteractions.csv** contains information about which employee liked or disliked a given comment.\n",
    "\n",
    "- **employee**: An integer id that identifies an amployee inside a company.\n",
    "- **companyAlias**: A hash id for a given company that uses the app. An employee can be uniquely identified with the tuple (employee,companyAlias).\n",
    "- **commentId**: A unique id for a given comment that allows us to relate it with the comments in anon_comments.csv.\n",
    "\n",
    "- **liked**: A boolean that is True if the employee liked the comment.\n",
    "- **disliked**: A boolean that is True if the employee disliked the comment."
   ]
  },
  {
   "cell_type": "code",
   "execution_count": 6,
   "metadata": {},
   "outputs": [
    {
     "name": "stderr",
     "output_type": "stream",
     "text": [
      "/home/kalidus/anaconda3/lib/python3.5/site-packages/IPython/core/interactiveshell.py:2683: DtypeWarning: Columns (2,3) have mixed types. Specify dtype option on import or set low_memory=False.\n",
      "  interactivity=interactivity, compiler=compiler, result=result)\n"
     ]
    },
    {
     "data": {
      "text/html": [
       "<div>\n",
       "<style>\n",
       "    .dataframe thead tr:only-child th {\n",
       "        text-align: right;\n",
       "    }\n",
       "\n",
       "    .dataframe thead th {\n",
       "        text-align: left;\n",
       "    }\n",
       "\n",
       "    .dataframe tbody tr th {\n",
       "        vertical-align: top;\n",
       "    }\n",
       "</style>\n",
       "<table border=\"1\" class=\"dataframe\">\n",
       "  <thead>\n",
       "    <tr style=\"text-align: right;\">\n",
       "      <th></th>\n",
       "      <th>employee</th>\n",
       "      <th>companyAlias</th>\n",
       "      <th>liked</th>\n",
       "      <th>disliked</th>\n",
       "      <th>commentId</th>\n",
       "    </tr>\n",
       "  </thead>\n",
       "  <tbody>\n",
       "    <tr>\n",
       "      <th>0</th>\n",
       "      <td>307</td>\n",
       "      <td>56aec740f1ef260003e307d6</td>\n",
       "      <td>True</td>\n",
       "      <td>False</td>\n",
       "      <td>58d018d7e010990004e38070</td>\n",
       "    </tr>\n",
       "    <tr>\n",
       "      <th>1</th>\n",
       "      <td>36</td>\n",
       "      <td>56aec740f1ef260003e307d6</td>\n",
       "      <td>True</td>\n",
       "      <td>False</td>\n",
       "      <td>58d018d7e010990004e38070</td>\n",
       "    </tr>\n",
       "    <tr>\n",
       "      <th>2</th>\n",
       "      <td>276</td>\n",
       "      <td>56aec740f1ef260003e307d6</td>\n",
       "      <td>True</td>\n",
       "      <td>False</td>\n",
       "      <td>58d018d7e010990004e38070</td>\n",
       "    </tr>\n",
       "  </tbody>\n",
       "</table>\n",
       "</div>"
      ],
      "text/plain": [
       "   employee              companyAlias liked disliked                 commentId\n",
       "0       307  56aec740f1ef260003e307d6  True    False  58d018d7e010990004e38070\n",
       "1        36  56aec740f1ef260003e307d6  True    False  58d018d7e010990004e38070\n",
       "2       276  56aec740f1ef260003e307d6  True    False  58d018d7e010990004e38070"
      ]
     },
     "execution_count": 6,
     "metadata": {},
     "output_type": "execute_result"
    }
   ],
   "source": [
    "inters = pd.read_csv('data/commentInteractions.csv').dropna(how='any').drop_duplicates()\n",
    "inters.head(3)"
   ]
  },
  {
   "cell_type": "code",
   "execution_count": 7,
   "metadata": {},
   "outputs": [
    {
     "data": {
      "text/html": [
       "<div>\n",
       "<style>\n",
       "    .dataframe thead tr:only-child th {\n",
       "        text-align: right;\n",
       "    }\n",
       "\n",
       "    .dataframe thead th {\n",
       "        text-align: left;\n",
       "    }\n",
       "\n",
       "    .dataframe tbody tr th {\n",
       "        vertical-align: top;\n",
       "    }\n",
       "</style>\n",
       "<table border=\"1\" class=\"dataframe\">\n",
       "  <thead>\n",
       "    <tr style=\"text-align: right;\">\n",
       "      <th></th>\n",
       "      <th>employee</th>\n",
       "    </tr>\n",
       "  </thead>\n",
       "  <tbody>\n",
       "    <tr>\n",
       "      <th>count</th>\n",
       "      <td>336952.000000</td>\n",
       "    </tr>\n",
       "    <tr>\n",
       "      <th>mean</th>\n",
       "      <td>162.881031</td>\n",
       "    </tr>\n",
       "    <tr>\n",
       "      <th>std</th>\n",
       "      <td>182.071344</td>\n",
       "    </tr>\n",
       "    <tr>\n",
       "      <th>min</th>\n",
       "      <td>-218.000000</td>\n",
       "    </tr>\n",
       "    <tr>\n",
       "      <th>25%</th>\n",
       "      <td>38.000000</td>\n",
       "    </tr>\n",
       "    <tr>\n",
       "      <th>50%</th>\n",
       "      <td>122.000000</td>\n",
       "    </tr>\n",
       "    <tr>\n",
       "      <th>75%</th>\n",
       "      <td>212.000000</td>\n",
       "    </tr>\n",
       "    <tr>\n",
       "      <th>max</th>\n",
       "      <td>999.000000</td>\n",
       "    </tr>\n",
       "  </tbody>\n",
       "</table>\n",
       "</div>"
      ],
      "text/plain": [
       "            employee\n",
       "count  336952.000000\n",
       "mean      162.881031\n",
       "std       182.071344\n",
       "min      -218.000000\n",
       "25%        38.000000\n",
       "50%       122.000000\n",
       "75%       212.000000\n",
       "max       999.000000"
      ]
     },
     "execution_count": 7,
     "metadata": {},
     "output_type": "execute_result"
    }
   ],
   "source": [
    "inters.describe()"
   ]
  },
  {
   "cell_type": "markdown",
   "metadata": {},
   "source": [
    "## 1.4 Last participation date of employees"
   ]
  },
  {
   "cell_type": "markdown",
   "metadata": {},
   "source": [
    "The **lastParticipationExists.csv** file contains information about the date of the last interaction of an employee with the app.\n",
    "\n",
    "- **employee**: An integer id that identifies an amployee inside a company.\n",
    "- **companyAlias**: A hash id for a given company that uses the app. An employee can be uniquely identified with the tuple (employee,companyAlias).\n",
    "- **numVotes**: Total number of happyness votes emited by the user.\n",
    "- **lastParticipationDate**: Date of the last interaction of the user with the app.\n",
    "- **stillExists**: Boolean that is True if the user is still registered in the app."
   ]
  },
  {
   "cell_type": "code",
   "execution_count": 8,
   "metadata": {},
   "outputs": [
    {
     "data": {
      "text/html": [
       "<div>\n",
       "<style>\n",
       "    .dataframe thead tr:only-child th {\n",
       "        text-align: right;\n",
       "    }\n",
       "\n",
       "    .dataframe thead th {\n",
       "        text-align: left;\n",
       "    }\n",
       "\n",
       "    .dataframe tbody tr th {\n",
       "        vertical-align: top;\n",
       "    }\n",
       "</style>\n",
       "<table border=\"1\" class=\"dataframe\">\n",
       "  <thead>\n",
       "    <tr style=\"text-align: right;\">\n",
       "      <th></th>\n",
       "      <th>employee</th>\n",
       "      <th>companyAlias</th>\n",
       "      <th>numVotes</th>\n",
       "      <th>lastParticipationDate</th>\n",
       "      <th>stillExists</th>\n",
       "    </tr>\n",
       "  </thead>\n",
       "  <tbody>\n",
       "    <tr>\n",
       "      <th>0</th>\n",
       "      <td>512</td>\n",
       "      <td>56aec740f1ef260003e307d6</td>\n",
       "      <td>4</td>\n",
       "      <td>2017-02-23 11:48:04</td>\n",
       "      <td>True</td>\n",
       "    </tr>\n",
       "    <tr>\n",
       "      <th>1</th>\n",
       "      <td>-2</td>\n",
       "      <td>56aec740f1ef260003e307d6</td>\n",
       "      <td>0</td>\n",
       "      <td>2017-01-18 13:00:55</td>\n",
       "      <td>False</td>\n",
       "    </tr>\n",
       "    <tr>\n",
       "      <th>2</th>\n",
       "      <td>2</td>\n",
       "      <td>56aec740f1ef260003e307d6</td>\n",
       "      <td>72</td>\n",
       "      <td>2017-03-17 00:00:00</td>\n",
       "      <td>True</td>\n",
       "    </tr>\n",
       "  </tbody>\n",
       "</table>\n",
       "</div>"
      ],
      "text/plain": [
       "   employee              companyAlias  numVotes lastParticipationDate  \\\n",
       "0       512  56aec740f1ef260003e307d6         4   2017-02-23 11:48:04   \n",
       "1        -2  56aec740f1ef260003e307d6         0   2017-01-18 13:00:55   \n",
       "2         2  56aec740f1ef260003e307d6        72   2017-03-17 00:00:00   \n",
       "\n",
       "   stillExists  \n",
       "0         True  \n",
       "1        False  \n",
       "2         True  "
      ]
     },
     "execution_count": 8,
     "metadata": {},
     "output_type": "execute_result"
    }
   ],
   "source": [
    "lastpart = pd.read_csv('data/lastParticipationExists.csv',parse_dates=[3]).drop_duplicates()\n",
    "lastpart.head(3)"
   ]
  },
  {
   "cell_type": "code",
   "execution_count": 9,
   "metadata": {},
   "outputs": [
    {
     "data": {
      "text/html": [
       "<div>\n",
       "<style>\n",
       "    .dataframe thead tr:only-child th {\n",
       "        text-align: right;\n",
       "    }\n",
       "\n",
       "    .dataframe thead th {\n",
       "        text-align: left;\n",
       "    }\n",
       "\n",
       "    .dataframe tbody tr th {\n",
       "        vertical-align: top;\n",
       "    }\n",
       "</style>\n",
       "<table border=\"1\" class=\"dataframe\">\n",
       "  <thead>\n",
       "    <tr style=\"text-align: right;\">\n",
       "      <th></th>\n",
       "      <th>employee</th>\n",
       "      <th>numVotes</th>\n",
       "    </tr>\n",
       "  </thead>\n",
       "  <tbody>\n",
       "    <tr>\n",
       "      <th>count</th>\n",
       "      <td>4847.000000</td>\n",
       "      <td>4847.000000</td>\n",
       "    </tr>\n",
       "    <tr>\n",
       "      <th>mean</th>\n",
       "      <td>167.375490</td>\n",
       "      <td>45.896431</td>\n",
       "    </tr>\n",
       "    <tr>\n",
       "      <th>std</th>\n",
       "      <td>208.271041</td>\n",
       "      <td>71.302128</td>\n",
       "    </tr>\n",
       "    <tr>\n",
       "      <th>min</th>\n",
       "      <td>-218.000000</td>\n",
       "      <td>0.000000</td>\n",
       "    </tr>\n",
       "    <tr>\n",
       "      <th>25%</th>\n",
       "      <td>33.000000</td>\n",
       "      <td>3.000000</td>\n",
       "    </tr>\n",
       "    <tr>\n",
       "      <th>50%</th>\n",
       "      <td>113.000000</td>\n",
       "      <td>16.000000</td>\n",
       "    </tr>\n",
       "    <tr>\n",
       "      <th>75%</th>\n",
       "      <td>231.000000</td>\n",
       "      <td>59.000000</td>\n",
       "    </tr>\n",
       "    <tr>\n",
       "      <th>max</th>\n",
       "      <td>999.000000</td>\n",
       "      <td>740.000000</td>\n",
       "    </tr>\n",
       "  </tbody>\n",
       "</table>\n",
       "</div>"
      ],
      "text/plain": [
       "          employee     numVotes\n",
       "count  4847.000000  4847.000000\n",
       "mean    167.375490    45.896431\n",
       "std     208.271041    71.302128\n",
       "min    -218.000000     0.000000\n",
       "25%      33.000000     3.000000\n",
       "50%     113.000000    16.000000\n",
       "75%     231.000000    59.000000\n",
       "max     999.000000   740.000000"
      ]
     },
     "execution_count": 9,
     "metadata": {},
     "output_type": "execute_result"
    }
   ],
   "source": [
    "lastpart.describe()"
   ]
  },
  {
   "cell_type": "markdown",
   "metadata": {},
   "source": [
    "# 2. Data cleaning process"
   ]
  },
  {
   "cell_type": "markdown",
   "metadata": {},
   "source": [
    "We would like to use this data to predict the future happyness of an employee base on its past interactions with the app. In order to get a suitable dataset for this task we will follow the following process:\n",
    "\n",
    "1. **Select an arbitrary prediction date.** <p>\n",
    "    Only data prior to 26 Dec 2016 will be used to build our training and evaluation datasets.<p>\n",
    "2. **Use only data belonging non churned employees**.<p>\n",
    "    All the employees that churned before the prediction date will be removed from the training and test set. <p>\n",
    "3. **Use only data belonging to active employees**.<p>\n",
    "    We will only take into account employees that voted at least 5 times before the predictions date and 2 times after the prediction date and before the data collection period ended.  <p>\n",
    "5. **Employees with more than 5 likes/dislikes**.<p>\n",
    "    We will only take into account employees that liked or disliked a comment at least 5 times during the observation period.  <p>\n",
    "    \n",
    "5. **Creating a target variable**.<p>\n",
    "    The target variable for this use case will be a binary variable that relates to the happyness level of an employee. If the mean of the votes emited by an employee is greater than 2, the target variable will be 1, otherwise it will be 0.  <p>"
   ]
  },
  {
   "cell_type": "markdown",
   "metadata": {},
   "source": [
    "## 2.1 Filtering by an arbitrary prediction date"
   ]
  },
  {
   "cell_type": "markdown",
   "metadata": {},
   "source": [
    "In order to filter the data set by dates and remove the unwanted employees we need calculate the first date an employee interacted with the app. "
   ]
  },
  {
   "cell_type": "code",
   "execution_count": 10,
   "metadata": {},
   "outputs": [
    {
     "data": {
      "text/html": [
       "<div>\n",
       "<style>\n",
       "    .dataframe thead tr:only-child th {\n",
       "        text-align: right;\n",
       "    }\n",
       "\n",
       "    .dataframe thead th {\n",
       "        text-align: left;\n",
       "    }\n",
       "\n",
       "    .dataframe tbody tr th {\n",
       "        vertical-align: top;\n",
       "    }\n",
       "</style>\n",
       "<table border=\"1\" class=\"dataframe\">\n",
       "  <thead>\n",
       "    <tr style=\"text-align: right;\">\n",
       "      <th></th>\n",
       "      <th></th>\n",
       "      <th>first_date</th>\n",
       "    </tr>\n",
       "    <tr>\n",
       "      <th>companyAlias</th>\n",
       "      <th>employee</th>\n",
       "      <th></th>\n",
       "    </tr>\n",
       "  </thead>\n",
       "  <tbody>\n",
       "    <tr>\n",
       "      <th rowspan=\"3\" valign=\"top\">5370af43e4b0cff95558c12a</th>\n",
       "      <th>-117</th>\n",
       "      <td>2016-03-04 09:55:34</td>\n",
       "    </tr>\n",
       "    <tr>\n",
       "      <th>-116</th>\n",
       "      <td>2016-09-12 11:53:45</td>\n",
       "    </tr>\n",
       "    <tr>\n",
       "      <th>-115</th>\n",
       "      <td>2016-09-12 11:54:00</td>\n",
       "    </tr>\n",
       "  </tbody>\n",
       "</table>\n",
       "</div>"
      ],
      "text/plain": [
       "                                           first_date\n",
       "companyAlias             employee                    \n",
       "5370af43e4b0cff95558c12a -117     2016-03-04 09:55:34\n",
       "                         -116     2016-09-12 11:53:45\n",
       "                         -115     2016-09-12 11:54:00"
      ]
     },
     "execution_count": 10,
     "metadata": {},
     "output_type": "execute_result"
    }
   ],
   "source": [
    "#get first dates on different DataFrames\n",
    "min_date_comment = pd.DataFrame(comments.groupby(['companyAlias','employee'])['commentDate'].apply(np.min))\n",
    "min_date_votes = pd.DataFrame(votes.groupby(['companyAlias','employee'])['voteDate'].apply(np.min))\n",
    "min_date_part = pd.DataFrame(lastpart.groupby(['companyAlias','employee'])['lastParticipationDate'].min())\n",
    "#combine them\n",
    "min_dates = pd.merge(min_date_comment,min_date_votes,right_index=True,left_index=True,how='outer')\n",
    "min_dates = pd.merge(min_dates,min_date_part,right_index=True,left_index=True,how='outer')\n",
    "#take the earliest date of the 3 different DataFrames and propagate nans employee wise\n",
    "first_dates = pd.DataFrame(min_dates.fillna(method='ffill',axis=1).fillna(method='bfill',axis=1).min(axis=1),\n",
    "                           columns=['first_date'])\n",
    "first_dates.head(3)"
   ]
  },
  {
   "cell_type": "markdown",
   "metadata": {},
   "source": [
    "Now we create a DataFrame containing the first date of app usage, the last date an employee used the app, and  a column that indicates if the user is still registered in the app. Now we can filter employees by periods of activity."
   ]
  },
  {
   "cell_type": "code",
   "execution_count": 11,
   "metadata": {},
   "outputs": [
    {
     "name": "stderr",
     "output_type": "stream",
     "text": [
      "/home/kalidus/anaconda3/lib/python3.5/site-packages/ipykernel/__main__.py:3: DeprecationWarning: \n",
      ".ix is deprecated. Please use\n",
      ".loc for label based indexing or\n",
      ".iloc for positional indexing\n",
      "\n",
      "See the documentation here:\n",
      "http://pandas.pydata.org/pandas-docs/stable/indexing.html#deprecate_ix\n",
      "  app.launch_new_instance()\n"
     ]
    },
    {
     "data": {
      "text/html": [
       "<div>\n",
       "<style>\n",
       "    .dataframe thead tr:only-child th {\n",
       "        text-align: right;\n",
       "    }\n",
       "\n",
       "    .dataframe thead th {\n",
       "        text-align: left;\n",
       "    }\n",
       "\n",
       "    .dataframe tbody tr th {\n",
       "        vertical-align: top;\n",
       "    }\n",
       "</style>\n",
       "<table border=\"1\" class=\"dataframe\">\n",
       "  <thead>\n",
       "    <tr style=\"text-align: right;\">\n",
       "      <th></th>\n",
       "      <th></th>\n",
       "      <th>first_date</th>\n",
       "      <th>lastParticipationDate</th>\n",
       "      <th>stillExists</th>\n",
       "    </tr>\n",
       "    <tr>\n",
       "      <th>companyAlias</th>\n",
       "      <th>employee</th>\n",
       "      <th></th>\n",
       "      <th></th>\n",
       "      <th></th>\n",
       "    </tr>\n",
       "  </thead>\n",
       "  <tbody>\n",
       "    <tr>\n",
       "      <th rowspan=\"4\" valign=\"top\">58c6e15f32f72a00046f556c</th>\n",
       "      <th>58</th>\n",
       "      <td>2017-03-14</td>\n",
       "      <td>2017-03-14 23:13:43</td>\n",
       "      <td>True</td>\n",
       "    </tr>\n",
       "    <tr>\n",
       "      <th>59</th>\n",
       "      <td>2017-03-14</td>\n",
       "      <td>2017-03-14 23:13:43</td>\n",
       "      <td>True</td>\n",
       "    </tr>\n",
       "    <tr>\n",
       "      <th>60</th>\n",
       "      <td>2017-03-14</td>\n",
       "      <td>2017-03-20 14:29:20</td>\n",
       "      <td>True</td>\n",
       "    </tr>\n",
       "    <tr>\n",
       "      <th>61</th>\n",
       "      <td>2017-03-14</td>\n",
       "      <td>2017-03-14 23:13:43</td>\n",
       "      <td>True</td>\n",
       "    </tr>\n",
       "  </tbody>\n",
       "</table>\n",
       "</div>"
      ],
      "text/plain": [
       "                                  first_date lastParticipationDate stillExists\n",
       "companyAlias             employee                                             \n",
       "58c6e15f32f72a00046f556c 58       2017-03-14   2017-03-14 23:13:43        True\n",
       "                         59       2017-03-14   2017-03-14 23:13:43        True\n",
       "                         60       2017-03-14   2017-03-20 14:29:20        True\n",
       "                         61       2017-03-14   2017-03-14 23:13:43        True"
      ]
     },
     "execution_count": 11,
     "metadata": {},
     "output_type": "execute_result"
    }
   ],
   "source": [
    "last_dates = lastpart.set_index(['companyAlias','employee'])[['lastParticipationDate','stillExists']].copy()\n",
    "dates = pd.merge(first_dates,last_dates,right_index=True,left_index=True,how='outer')\n",
    "dates.ix[-5:-1].head()"
   ]
  },
  {
   "cell_type": "markdown",
   "metadata": {},
   "source": [
    "## 2.2 Filtrering employees\n",
    "\n",
    "- We delete employees churned before 16 Feb 2017 (data collection ended).\n",
    "- We delete employees that started using the app after 1 feb 2017(prediction date).\n",
    "\n"
   ]
  },
  {
   "cell_type": "code",
   "execution_count": 28,
   "metadata": {
    "collapsed": true
   },
   "outputs": [],
   "source": [
    "prediction_date = '6 Feb 2017'\n",
    "data_collection_ended = '19 Feb 2017'"
   ]
  },
  {
   "cell_type": "code",
   "execution_count": 29,
   "metadata": {
    "collapsed": true
   },
   "outputs": [],
   "source": [
    "c_first = dates['first_date']<=pd.to_datetime(prediction_date)\n",
    "c_last = dates['lastParticipationDate']>pd.to_datetime(data_collection_ended)\n",
    "users_index = dates[c_first&c_last].copy()"
   ]
  },
  {
   "cell_type": "code",
   "execution_count": 30,
   "metadata": {},
   "outputs": [
    {
     "data": {
      "text/plain": [
       "(21, 1694)"
      ]
     },
     "execution_count": 30,
     "metadata": {},
     "output_type": "execute_result"
    }
   ],
   "source": [
    "len(users_index.reset_index()['companyAlias'].unique()),len(users_index.index)"
   ]
  },
  {
   "cell_type": "markdown",
   "metadata": {},
   "source": [
    "This means that we will be dealing with 1710 employees across 21 different companies. You can see in the following plot the number of employees of every company. "
   ]
  },
  {
   "cell_type": "code",
   "execution_count": 24,
   "metadata": {},
   "outputs": [
    {
     "data": {
      "text/plain": [
       "<matplotlib.axes._subplots.AxesSubplot at 0x7fdf7c1636d8>"
      ]
     },
     "execution_count": 24,
     "metadata": {},
     "output_type": "execute_result"
    },
    {
     "data": {
      "image/png": "[encoded data removed]",
      "text/plain": [
       "<matplotlib.figure.Figure at 0x7fdf7c1598d0>"
      ]
     },
     "metadata": {},
     "output_type": "display_data"
    }
   ],
   "source": [
    "%matplotlib inline\n",
    "users_index.reset_index()['companyAlias'].value_counts().plot(kind='bar',\n",
    "                                                              figsize=(10,5),\n",
    "                                                              title='Employee distribution across companies',\n",
    "                                                              )"
   ]
  },
  {
   "cell_type": "markdown",
   "metadata": {},
   "source": [
    "# 2.3 Creating UIDs for every employee"
   ]
  },
  {
   "cell_type": "markdown",
   "metadata": {},
   "source": [
    "We will create a unique identifier for every employee, so it will be easier to work and filter the data."
   ]
  },
  {
   "cell_type": "code",
   "execution_count": null,
   "metadata": {
    "collapsed": true
   },
   "outputs": [],
   "source": [
    "#numeric aliases for company istead of a hash\n",
    "alias_comp = dict([(x,i) for i,x in enumerate(np.unique(users_index.index.levels[0].values).tolist())])\n",
    "def make_uid(x):\n",
    "    df = x.reset_index().copy()\n",
    "    return df['companyAlias'].map(lambda x: str(alias_comp[x])).values+'_'+df['employee'].map(str).values\n",
    "users_index['uid'] = make_uid(users_index)\n",
    "inters['uid'] = make_uid(inters)\n",
    "inters['comid'] = inters['uid'].map(lambda x: x.split('_')[0]).values\n",
    "votes['uid'] = make_uid(votes)\n",
    "votes['comid'] = votes['uid'].map(lambda x: x.split('_')[0]).values\n",
    "comments['uid'] = make_uid(comments)\n",
    "comments['comid'] = comments['uid'].map(lambda x: x.split('_')[0]).values\n",
    "lastpart['uid'] = make_uid(lastpart)\n",
    "lastpart['comid'] = lastpart['uid'].map(lambda x: x.split('_')[0]).values\n",
    "users_index['uid'] = make_uid(users_index)\n",
    "users_index['comid'] = users_index['uid'].map(lambda x: x.split('_')[0]).values\n",
    "\n",
    "inv_comp = dict([(val,key) for key,val in alias_comp.items()])\n",
    "def inv_company(x):\n",
    "    c = x.split('_')[0]\n",
    "    return inv_comp[int(c)]\n",
    "import pickle \n",
    "with open('inverse_alias.pck','wb') as f:\n",
    "    pickle.dump(inv_comp,f)"
   ]
  },
  {
   "cell_type": "markdown",
   "metadata": {},
   "source": [
    "This UID has the following form: comid_employee"
   ]
  },
  {
   "cell_type": "code",
   "execution_count": null,
   "metadata": {},
   "outputs": [],
   "source": [
    "users_index.head(3)"
   ]
  },
  {
   "cell_type": "markdown",
   "metadata": {},
   "source": [
    "# 2.4 Remove invalid employees"
   ]
  },
  {
   "cell_type": "markdown",
   "metadata": {},
   "source": [
    "We will filter out the employees that are not present the in users_index DataFrame."
   ]
  },
  {
   "cell_type": "code",
   "execution_count": null,
   "metadata": {
    "collapsed": true
   },
   "outputs": [],
   "source": [
    "valid_employees = users_index.uid.unique()\n",
    "filter_users = lambda x: x['uid'] in valid_employees\n",
    "#create index of valid employees\n",
    "coms_ix = comments.apply(filter_users,axis=1)\n",
    "lastp_ix = lastpart.apply(filter_users,axis=1)\n",
    "votes_ix = votes.apply(filter_users,axis=1)\n",
    "ints_ix = inters.apply(filter_users,axis=1)\n",
    "#users_ix = users_index.apply(filter_users,axis=1)"
   ]
  },
  {
   "cell_type": "code",
   "execution_count": null,
   "metadata": {
    "collapsed": true
   },
   "outputs": [],
   "source": [
    "inters_clean = inters[ints_ix].copy()\n",
    "votes_clean = votes[votes_ix].copy()\n",
    "coms_clean = comments[coms_ix].copy()\n",
    "lastp_clean = lastpart[lastp_ix].copy()"
   ]
  },
  {
   "cell_type": "markdown",
   "metadata": {},
   "source": [
    "# 2.5 Keep employees that interacted above a threshold"
   ]
  },
  {
   "cell_type": "markdown",
   "metadata": {},
   "source": [
    "In order to improve the stability of the ML models and improve the improve the overall quality of our data we will only take into account employees that meet the following conditions:\n",
    "\n",
    "- Voted at least 5 times before the prediction date.\n",
    "- Voted at least 2 times after the prediction date and before the data collection period ended.\n",
    "- Liked or disliked a comment at least 5 times before the prediction date."
   ]
  },
  {
   "cell_type": "markdown",
   "metadata": {},
   "source": [
    "We will start by creating an index for the different periods that are taken into consideration."
   ]
  },
  {
   "cell_type": "code",
   "execution_count": 17,
   "metadata": {
    "collapsed": true
   },
   "outputs": [],
   "source": [
    "#True before prediction date\n",
    "target_votes_prev = votes_clean['voteDate']<=pd.to_datetime(prediction_date)\n",
    "valid_comments = comments[comments.commentDate<=pd.to_datetime(prediction_date)].commentId.unique()\n",
    "#True before prediction date\n",
    "target_votes_start = votes_clean['voteDate']>pd.to_datetime(prediction_date)\n",
    "#True before data collection ended\n",
    "target_votes_end = votes_clean['voteDate']<=pd.to_datetime(data_collection_ended)"
   ]
  },
  {
   "cell_type": "code",
   "execution_count": 18,
   "metadata": {
    "collapsed": true
   },
   "outputs": [],
   "source": [
    "#num votes before prediction date\n",
    "num_votes_pre = votes_clean[target_votes_prev].groupby(['uid'])['vote'].agg({'votes_num': lambda x: len(x)}).copy().fillna(0)\n",
    "#num votes after prediction date\n",
    "num_votes_target = votes_clean[target_votes_start&target_votes_end].groupby(['uid'])['vote'].agg({'votes_num': lambda x: len(x)}).copy().fillna(0)\n",
    "#total number of likes given\n",
    "num_likes = inters.groupby('uid')['liked'].sum().astype(int)\n",
    "num_dislikes = inters.groupby('uid')['disliked'].sum().astype(int)"
   ]
  },
  {
   "cell_type": "code",
   "execution_count": 19,
   "metadata": {
    "collapsed": true
   },
   "outputs": [],
   "source": [
    "pre_emp = num_votes_pre[num_votes_pre.values>=5].index.unique().values.tolist()\n",
    "post_emp = num_votes_target[num_votes_target.values>=2].index.unique().values.tolist()\n",
    "enough_likes = num_likes[(num_likes.values+num_dislikes.values)>=5].index.unique().values.tolist()\n",
    "#these are the employee uids that we will be using for machine learning\n",
    "valid_employees = [e for e in pre_emp if e in post_emp and e in enough_likes]\n"
   ]
  },
  {
   "cell_type": "code",
   "execution_count": 34,
   "metadata": {
    "collapsed": true
   },
   "outputs": [],
   "source": [
    "votes_ml_all = votes_clean[votes_clean['uid'].map(lambda x: x in valid_employees)].copy()\n",
    "inters_ml = inters_clean[inters_clean['uid'].map(lambda x: x in valid_employees)].copy()\n",
    "comments_ml = coms_clean[coms_clean['uid'].map(lambda x: x in valid_employees)].copy()\n",
    "lastpart_ml = lastp_clean[lastp_clean['uid'].map(lambda x: x in valid_employees)].copy()"
   ]
  },
  {
   "cell_type": "markdown",
   "metadata": {
    "collapsed": true
   },
   "source": [
    "# 2.6 Creating the training and test datasets"
   ]
  },
  {
   "cell_type": "markdown",
   "metadata": {},
   "source": [
    "We will create the training set selecting only data belonging to the selected employees over the observation period."
   ]
  },
  {
   "cell_type": "code",
   "execution_count": 35,
   "metadata": {
    "collapsed": true
   },
   "outputs": [],
   "source": [
    "#votes training set\n",
    "votes_ml = votes_ml_all[votes_ml_all['voteDate']<=pd.to_datetime(prediction_date)]\n",
    "#comments training set\n",
    "comments_ml = comments_ml[comments_ml.commentDate<=pd.to_datetime(prediction_date)].copy()\n",
    "valid_comments = comments_ml.commentId.unique().tolist()\n",
    "#only interactions belonging to comments posted during the observation period\n",
    "inters_ml = inters_ml[inters_ml['commentId'].map(lambda x: x in valid_comments)].copy()\n"
   ]
  },
  {
   "cell_type": "markdown",
   "metadata": {},
   "source": [
    "# 2.7 Creating the target variable"
   ]
  },
  {
   "cell_type": "code",
   "execution_count": 50,
   "metadata": {
    "collapsed": true
   },
   "outputs": [],
   "source": [
    "target_votes_start = votes_ml_all['voteDate']>pd.to_datetime(prediction_date)\n",
    "#True before data collection ended\n",
    "target_votes_end = votes_ml_all['voteDate']<=pd.to_datetime(data_collection_ended)\n",
    "\n",
    "target_happy = votes_ml_all[target_votes_start&target_votes_end].groupby(['uid'])['vote'].agg({'votes_num': lambda x: len(x)}).copy().fillna(0)\n",
    "\n",
    "target_happy = pd.DataFrame(target_happy.votes_num.map(lambda x: 0 if x<=2 else 1))"
   ]
  },
  {
   "cell_type": "markdown",
   "metadata": {},
   "source": [
    "# Saving cleaned dataset\n"
   ]
  },
  {
   "cell_type": "code",
   "execution_count": 58,
   "metadata": {
    "collapsed": true
   },
   "outputs": [],
   "source": [
    "votes_ml.to_csv('clean_data/votes_ml.csv')\n",
    "comments_ml.to_csv('clean_data/comments_ml.csv')\n",
    "inters_ml.to_csv('clean_data/interactions_ml.csv')\n",
    "target_happy.to_csv('clean_data/target_ml.csv')"
   ]
  },
  {
   "cell_type": "code",
   "execution_count": null,
   "metadata": {
    "collapsed": true
   },
   "outputs": [],
   "source": []
  }
 ],
 "metadata": {
  "anaconda-cloud": {},
  "kernelspec": {
   "display_name": "Python [default]",
   "language": "python",
   "name": "python3"
  },
  "language_info": {
   "codemirror_mode": {
    "name": "ipython",
    "version": 3
   },
   "file_extension": ".py",
   "mimetype": "text/x-python",
   "name": "python",
   "nbconvert_exporter": "python",
   "pygments_lexer": "ipython3",
   "version": "3.5.3"
  }
 },
 "nbformat": 4,
 "nbformat_minor": 2
}
