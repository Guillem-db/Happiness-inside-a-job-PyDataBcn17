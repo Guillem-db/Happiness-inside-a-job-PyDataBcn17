{
 "cells": [
  {
   "cell_type": "code",
   "execution_count": 9,
   "metadata": {
    "collapsed": true
   },
   "outputs": [],
   "source": [
    "import numpy as np\n",
    "import pandas as pd"
   ]
  },
  {
   "cell_type": "markdown",
   "metadata": {},
   "source": [
    "# Happiness inside a job: a social network analysis"
   ]
  },
  {
   "cell_type": "markdown",
   "metadata": {},
   "source": [
    "# TODOS:\n",
    "\n",
    "- Select target happyness.\n",
    "- Evaluate regressors.\n",
    "- Upload graph feature extraction.\n",
    "- Plots Notebook."
   ]
  },
  {
   "cell_type": "markdown",
   "metadata": {},
   "source": [
    "## Index\n",
    "\n",
    "1. [Structure of the database](#1.-Structure-of-the-database)"
   ]
  },
  {
   "cell_type": "markdown",
   "metadata": {},
   "source": [
    "# 1. Structure of the database"
   ]
  },
  {
   "cell_type": "markdown",
   "metadata": {},
   "source": [
    "## 1.1 What is Happyforce"
   ]
  },
  {
   "cell_type": "markdown",
   "metadata": {},
   "source": [
    "During these examples we will be dealing with a database provided by **[Happyforce](http://www.myhappyforce.com/es/#four-steps)**.  It contains anonimized information about the votes, comments and interactions among the different users of the application. #TODO: detailed introduction."
   ]
  },
  {
   "cell_type": "markdown",
   "metadata": {},
   "source": [
    "TODO: expain how the app work +images"
   ]
  },
  {
   "cell_type": "markdown",
   "metadata": {},
   "source": [
    "## 1.2 Happyness votes data"
   ]
  },
  {
   "cell_type": "markdown",
   "metadata": {},
   "source": [
    "The data regarding the votes of the app users is stored in **votes.csv**. This file containg 4 different columns:\n",
    "\n",
    "- **employee**: An integer id that identifies an amployee inside a company.\n",
    "- **companyAlias**: A hash id for a given company that uses the app. An employee can be uniquely identified with the tuple (employee,companyAlias).\n",
    "- **voteDate**: String representing the date a given vote was emited.\n",
    "- **vote**: The numeric value of the vote emited ranging from 1 to 4."
   ]
  },
  {
   "cell_type": "code",
   "execution_count": 23,
   "metadata": {},
   "outputs": [
    {
     "data": {
      "text/html": [
       "<div>\n",
       "<table border=\"1\" class=\"dataframe\">\n",
       "  <thead>\n",
       "    <tr style=\"text-align: right;\">\n",
       "      <th></th>\n",
       "      <th>employee</th>\n",
       "      <th>companyAlias</th>\n",
       "      <th>voteDate</th>\n",
       "      <th>vote</th>\n",
       "    </tr>\n",
       "  </thead>\n",
       "  <tbody>\n",
       "    <tr>\n",
       "      <th>0</th>\n",
       "      <td>31</td>\n",
       "      <td>56aec740f1ef260003e307d6</td>\n",
       "      <td>2016-02-01</td>\n",
       "      <td>4</td>\n",
       "    </tr>\n",
       "    <tr>\n",
       "      <th>1</th>\n",
       "      <td>33</td>\n",
       "      <td>56aec740f1ef260003e307d6</td>\n",
       "      <td>2016-02-01</td>\n",
       "      <td>4</td>\n",
       "    </tr>\n",
       "    <tr>\n",
       "      <th>2</th>\n",
       "      <td>79</td>\n",
       "      <td>56aec740f1ef260003e307d6</td>\n",
       "      <td>2016-02-01</td>\n",
       "      <td>4</td>\n",
       "    </tr>\n",
       "  </tbody>\n",
       "</table>\n",
       "</div>"
      ],
      "text/plain": [
       "   employee              companyAlias   voteDate  vote\n",
       "0        31  56aec740f1ef260003e307d6 2016-02-01     4\n",
       "1        33  56aec740f1ef260003e307d6 2016-02-01     4\n",
       "2        79  56aec740f1ef260003e307d6 2016-02-01     4"
      ]
     },
     "execution_count": 23,
     "metadata": {},
     "output_type": "execute_result"
    }
   ],
   "source": [
    "votes = pd.read_csv('data/votes.csv',parse_dates=[2]).drop_duplicates()\n",
    "votes.head(3)"
   ]
  },
  {
   "cell_type": "markdown",
   "metadata": {},
   "source": [
    "## 1.3 Comments data"
   ]
  },
  {
   "cell_type": "markdown",
   "metadata": {},
   "source": [
    "It is possible to find data about the comments written in the app in the **anon_comments.csv** file, and it has the following structure:\n",
    "\n",
    "- **employee**: An integer id that identifies an amployee inside a company.\n",
    "- **companyAlias**: A hash id for a given company that uses the app. An employee can be uniquely identified with the tuple (employee,companyAlias).\n",
    "- **commentDate**: String representing the date a given comment was written.\n",
    "- **commentId**: A unique id for a given comment.\n",
    "- **comment**: Anonimized comment. It has the same length as the original comment. \n",
    "- **likes**: Number of likes that the comment received.\n",
    "- **dislikes**: Number of dislikes that the comment received."
   ]
  },
  {
   "cell_type": "code",
   "execution_count": 22,
   "metadata": {
    "scrolled": true
   },
   "outputs": [
    {
     "data": {
      "text/html": [
       "<div>\n",
       "<table border=\"1\" class=\"dataframe\">\n",
       "  <thead>\n",
       "    <tr style=\"text-align: right;\">\n",
       "      <th></th>\n",
       "      <th>employee</th>\n",
       "      <th>companyAlias</th>\n",
       "      <th>commentId</th>\n",
       "      <th>comment</th>\n",
       "      <th>likes</th>\n",
       "      <th>dislikes</th>\n",
       "      <th>commentDate</th>\n",
       "    </tr>\n",
       "  </thead>\n",
       "  <tbody>\n",
       "    <tr>\n",
       "      <th>0</th>\n",
       "      <td>307</td>\n",
       "      <td>56aec740f1ef260003e307d6</td>\n",
       "      <td>58d018d7e010990004e38070</td>\n",
       "      <td>**********************************************...</td>\n",
       "      <td>4.0</td>\n",
       "      <td>0.0</td>\n",
       "      <td>2017-03-20 18:00:17</td>\n",
       "    </tr>\n",
       "    <tr>\n",
       "      <th>1</th>\n",
       "      <td>382</td>\n",
       "      <td>56aec740f1ef260003e307d6</td>\n",
       "      <td>58d0179ae010990004e3806d</td>\n",
       "      <td>*****************************</td>\n",
       "      <td>1.0</td>\n",
       "      <td>2.0</td>\n",
       "      <td>2017-03-20 17:55:16</td>\n",
       "    </tr>\n",
       "    <tr>\n",
       "      <th>2</th>\n",
       "      <td>172</td>\n",
       "      <td>56aec740f1ef260003e307d6</td>\n",
       "      <td>58cff8cde010990004e37f6a</td>\n",
       "      <td>***************************</td>\n",
       "      <td>3.0</td>\n",
       "      <td>0.0</td>\n",
       "      <td>2017-03-20 15:44:02</td>\n",
       "    </tr>\n",
       "  </tbody>\n",
       "</table>\n",
       "</div>"
      ],
      "text/plain": [
       "   employee              companyAlias                 commentId  \\\n",
       "0       307  56aec740f1ef260003e307d6  58d018d7e010990004e38070   \n",
       "1       382  56aec740f1ef260003e307d6  58d0179ae010990004e3806d   \n",
       "2       172  56aec740f1ef260003e307d6  58cff8cde010990004e37f6a   \n",
       "\n",
       "                                             comment  likes  dislikes  \\\n",
       "0  **********************************************...    4.0       0.0   \n",
       "1                      *****************************    1.0       2.0   \n",
       "2                        ***************************    3.0       0.0   \n",
       "\n",
       "          commentDate  \n",
       "0 2017-03-20 18:00:17  \n",
       "1 2017-03-20 17:55:16  \n",
       "2 2017-03-20 15:44:02  "
      ]
     },
     "execution_count": 22,
     "metadata": {},
     "output_type": "execute_result"
    }
   ],
   "source": [
    "comments = comments = pd.read_csv('data/anon_comments.csv',parse_dates=[-1]).drop('Unnamed: 0',axis=1)\n",
    "comments.head(3)"
   ]
  },
  {
   "cell_type": "markdown",
   "metadata": {},
   "source": [
    "## 1.3 Employee Interactions"
   ]
  },
  {
   "cell_type": "markdown",
   "metadata": {},
   "source": [
    "The file **commentInteractions.csv** contains information about which employee liked or disliked a given comment.\n",
    "\n",
    "- **employee**: An integer id that identifies an amployee inside a company.\n",
    "- **companyAlias**: A hash id for a given company that uses the app. An employee can be uniquely identified with the tuple (employee,companyAlias).\n",
    "- **commentId**: A unique id for a given comment that allows us to relate it with the comments in anon_comments.csv.\n",
    "\n",
    "- **liked**: A boolean that is True if the employee liked the comment.\n",
    "- **disliked**: A boolean that is True if the employee disliked the comment."
   ]
  },
  {
   "cell_type": "code",
   "execution_count": 8,
   "metadata": {},
   "outputs": [
    {
     "name": "stderr",
     "output_type": "stream",
     "text": [
      "/home/kalidus/anaconda3/lib/python3.5/site-packages/IPython/core/interactiveshell.py:2717: DtypeWarning: Columns (2,3) have mixed types. Specify dtype option on import or set low_memory=False.\n",
      "  interactivity=interactivity, compiler=compiler, result=result)\n"
     ]
    },
    {
     "data": {
      "text/html": [
       "<div>\n",
       "<table border=\"1\" class=\"dataframe\">\n",
       "  <thead>\n",
       "    <tr style=\"text-align: right;\">\n",
       "      <th></th>\n",
       "      <th>employee</th>\n",
       "      <th>companyAlias</th>\n",
       "      <th>liked</th>\n",
       "      <th>disliked</th>\n",
       "      <th>commentId</th>\n",
       "    </tr>\n",
       "  </thead>\n",
       "  <tbody>\n",
       "    <tr>\n",
       "      <th>0</th>\n",
       "      <td>307</td>\n",
       "      <td>56aec740f1ef260003e307d6</td>\n",
       "      <td>True</td>\n",
       "      <td>False</td>\n",
       "      <td>58d018d7e010990004e38070</td>\n",
       "    </tr>\n",
       "    <tr>\n",
       "      <th>1</th>\n",
       "      <td>36</td>\n",
       "      <td>56aec740f1ef260003e307d6</td>\n",
       "      <td>True</td>\n",
       "      <td>False</td>\n",
       "      <td>58d018d7e010990004e38070</td>\n",
       "    </tr>\n",
       "    <tr>\n",
       "      <th>2</th>\n",
       "      <td>276</td>\n",
       "      <td>56aec740f1ef260003e307d6</td>\n",
       "      <td>True</td>\n",
       "      <td>False</td>\n",
       "      <td>58d018d7e010990004e38070</td>\n",
       "    </tr>\n",
       "  </tbody>\n",
       "</table>\n",
       "</div>"
      ],
      "text/plain": [
       "   employee              companyAlias liked disliked                 commentId\n",
       "0       307  56aec740f1ef260003e307d6  True    False  58d018d7e010990004e38070\n",
       "1        36  56aec740f1ef260003e307d6  True    False  58d018d7e010990004e38070\n",
       "2       276  56aec740f1ef260003e307d6  True    False  58d018d7e010990004e38070"
      ]
     },
     "execution_count": 8,
     "metadata": {},
     "output_type": "execute_result"
    }
   ],
   "source": [
    "inters = pd.read_csv('data/commentInteractions.csv').dropna(how='any').drop_duplicates()\n",
    "inters.head(3)"
   ]
  },
  {
   "cell_type": "markdown",
   "metadata": {},
   "source": [
    "## 1.4 Last participation date of employees"
   ]
  },
  {
   "cell_type": "markdown",
   "metadata": {},
   "source": [
    "The **lastParticipationExists.csv** file contains information about the date of the last interaction of an employee with the app.\n",
    "\n",
    "- **employee**: An integer id that identifies an amployee inside a company.\n",
    "- **companyAlias**: A hash id for a given company that uses the app. An employee can be uniquely identified with the tuple (employee,companyAlias).\n",
    "- **numVotes**: Total number of happyness votes emited by the user.\n",
    "- **lastParticipationDate**: Date of the last interaction of the user with the app.\n",
    "- **stillExists**: Boolean that is True if the user is still registered in the app."
   ]
  },
  {
   "cell_type": "code",
   "execution_count": 29,
   "metadata": {},
   "outputs": [
    {
     "data": {
      "text/html": [
       "<div>\n",
       "<table border=\"1\" class=\"dataframe\">\n",
       "  <thead>\n",
       "    <tr style=\"text-align: right;\">\n",
       "      <th></th>\n",
       "      <th>employee</th>\n",
       "      <th>companyAlias</th>\n",
       "      <th>numVotes</th>\n",
       "      <th>lastParticipationDate</th>\n",
       "      <th>stillExists</th>\n",
       "    </tr>\n",
       "  </thead>\n",
       "  <tbody>\n",
       "    <tr>\n",
       "      <th>0</th>\n",
       "      <td>512</td>\n",
       "      <td>56aec740f1ef260003e307d6</td>\n",
       "      <td>4</td>\n",
       "      <td>2017-02-23 11:48:04</td>\n",
       "      <td>True</td>\n",
       "    </tr>\n",
       "    <tr>\n",
       "      <th>1</th>\n",
       "      <td>-2</td>\n",
       "      <td>56aec740f1ef260003e307d6</td>\n",
       "      <td>0</td>\n",
       "      <td>2017-01-18 13:00:55</td>\n",
       "      <td>False</td>\n",
       "    </tr>\n",
       "    <tr>\n",
       "      <th>2</th>\n",
       "      <td>2</td>\n",
       "      <td>56aec740f1ef260003e307d6</td>\n",
       "      <td>72</td>\n",
       "      <td>2017-03-17 00:00:00</td>\n",
       "      <td>True</td>\n",
       "    </tr>\n",
       "  </tbody>\n",
       "</table>\n",
       "</div>"
      ],
      "text/plain": [
       "   employee              companyAlias  numVotes lastParticipationDate  \\\n",
       "0       512  56aec740f1ef260003e307d6         4   2017-02-23 11:48:04   \n",
       "1        -2  56aec740f1ef260003e307d6         0   2017-01-18 13:00:55   \n",
       "2         2  56aec740f1ef260003e307d6        72   2017-03-17 00:00:00   \n",
       "\n",
       "  stillExists  \n",
       "0        True  \n",
       "1       False  \n",
       "2        True  "
      ]
     },
     "execution_count": 29,
     "metadata": {},
     "output_type": "execute_result"
    }
   ],
   "source": [
    "lastpart = pd.read_csv('data/lastParticipationExists.csv',parse_dates=[3]).drop_duplicates()\n",
    "lastpart.head(3)"
   ]
  },
  {
   "cell_type": "code",
   "execution_count": null,
   "metadata": {},
   "outputs": [],
   "source": []
  },
  {
   "cell_type": "markdown",
   "metadata": {},
   "source": [
    "# 2. Data cleaning process"
   ]
  },
  {
   "cell_type": "markdown",
   "metadata": {},
   "source": [
    "We would like to use this data to predict the future happyness of an employee base on its past interactions with the app. In order to get a suitable dataset for this task we will follow the following process:\n",
    "\n",
    "1. **Select an arbitrary prediction date.** <p>\n",
    "    Only data prior to 26 Dec 2016 will be used to build our training and evaluation datasets.<p>\n",
    "2. **Use only data belonging non churned employees**.<p>\n",
    "    All the employees that churned before the prediction date will be removed from the training and test set. <p>\n",
    "3. **Use only data belonging to active employees**.<p>\n",
    "    We will only take into account employees that voted at least 5 times before the predictions date and 2 times after the prediction date and before the data collection period ended.  <p>\n",
    "5. **Employees with more than 5 likes/dislikes**.<p>\n",
    "    We will only take into account employees that liked or disliked a comment at least 5 times during the observation period.  <p>\n",
    "    \n",
    "5. **Creating a target variable**.<p>\n",
    "    The target variable for this use case will be a binary variable that relates to the happyness level of an employee. If the mean of the votes emited by an employee is greater than 2, the target variable will be 1, otherwise it will be 0.  <p>"
   ]
  },
  {
   "cell_type": "markdown",
   "metadata": {},
   "source": [
    "## 2.1 Filtering by an arbitrary prediction date"
   ]
  },
  {
   "cell_type": "markdown",
   "metadata": {},
   "source": [
    "In order to filter the data set by dates and remove the unwanted employees we need calculate the first date an employee interacted with the app. "
   ]
  },
  {
   "cell_type": "code",
   "execution_count": 61,
   "metadata": {},
   "outputs": [
    {
     "data": {
      "text/html": [
       "<div>\n",
       "<table border=\"1\" class=\"dataframe\">\n",
       "  <thead>\n",
       "    <tr style=\"text-align: right;\">\n",
       "      <th></th>\n",
       "      <th></th>\n",
       "      <th>first_date</th>\n",
       "    </tr>\n",
       "    <tr>\n",
       "      <th>companyAlias</th>\n",
       "      <th>employee</th>\n",
       "      <th></th>\n",
       "    </tr>\n",
       "  </thead>\n",
       "  <tbody>\n",
       "    <tr>\n",
       "      <th rowspan=\"3\" valign=\"top\">5370af43e4b0cff95558c12a</th>\n",
       "      <th>-117</th>\n",
       "      <td>2016-03-04 09:55:34</td>\n",
       "    </tr>\n",
       "    <tr>\n",
       "      <th>-116</th>\n",
       "      <td>2016-09-12 11:53:45</td>\n",
       "    </tr>\n",
       "    <tr>\n",
       "      <th>-115</th>\n",
       "      <td>2016-09-12 11:54:00</td>\n",
       "    </tr>\n",
       "  </tbody>\n",
       "</table>\n",
       "</div>"
      ],
      "text/plain": [
       "                                           first_date\n",
       "companyAlias             employee                    \n",
       "5370af43e4b0cff95558c12a -117     2016-03-04 09:55:34\n",
       "                         -116     2016-09-12 11:53:45\n",
       "                         -115     2016-09-12 11:54:00"
      ]
     },
     "execution_count": 61,
     "metadata": {},
     "output_type": "execute_result"
    }
   ],
   "source": [
    "#get first dates on different DataFrames\n",
    "min_date_comment = pd.DataFrame(comments.groupby(['companyAlias','employee'])['commentDate'].apply(np.min))\n",
    "min_date_votes = pd.DataFrame(votes.groupby(['companyAlias','employee'])['voteDate'].apply(np.min))\n",
    "min_date_part = pd.DataFrame(lastpart.groupby(['companyAlias','employee'])['lastParticipationDate'].min())\n",
    "#combine them\n",
    "min_dates = pd.merge(min_date_comment,min_date_votes,right_index=True,left_index=True,how='outer')\n",
    "min_dates = pd.merge(min_dates,min_date_part,right_index=True,left_index=True,how='outer')\n",
    "#take the earliest date of the 3 different DataFrames and propagate nans employee wise\n",
    "first_dates = pd.DataFrame(min_dates.fillna(method='ffill',axis=1).fillna(method='bfill',axis=1).min(axis=1),\n",
    "                           columns=['first_date'])\n",
    "first_dates.head(3)"
   ]
  },
  {
   "cell_type": "markdown",
   "metadata": {},
   "source": [
    "Now we create a DataFrame containing the first date of app usage, the last date an employee used the app, and  a column that indicates if the user is still registered in the app. Now we can filter employees by periods of activity."
   ]
  },
  {
   "cell_type": "code",
   "execution_count": 62,
   "metadata": {},
   "outputs": [
    {
     "data": {
      "text/html": [
       "<div>\n",
       "<table border=\"1\" class=\"dataframe\">\n",
       "  <thead>\n",
       "    <tr style=\"text-align: right;\">\n",
       "      <th></th>\n",
       "      <th></th>\n",
       "      <th>first_date</th>\n",
       "      <th>lastParticipationDate</th>\n",
       "      <th>stillExists</th>\n",
       "    </tr>\n",
       "    <tr>\n",
       "      <th>companyAlias</th>\n",
       "      <th>employee</th>\n",
       "      <th></th>\n",
       "      <th></th>\n",
       "      <th></th>\n",
       "    </tr>\n",
       "  </thead>\n",
       "  <tbody>\n",
       "    <tr>\n",
       "      <th rowspan=\"4\" valign=\"top\">58c6e15f32f72a00046f556c</th>\n",
       "      <th>58</th>\n",
       "      <td>2017-03-14</td>\n",
       "      <td>2017-03-14 23:13:43</td>\n",
       "      <td>True</td>\n",
       "    </tr>\n",
       "    <tr>\n",
       "      <th>59</th>\n",
       "      <td>2017-03-14</td>\n",
       "      <td>2017-03-14 23:13:43</td>\n",
       "      <td>True</td>\n",
       "    </tr>\n",
       "    <tr>\n",
       "      <th>60</th>\n",
       "      <td>2017-03-14</td>\n",
       "      <td>2017-03-20 14:29:20</td>\n",
       "      <td>True</td>\n",
       "    </tr>\n",
       "    <tr>\n",
       "      <th>61</th>\n",
       "      <td>2017-03-14</td>\n",
       "      <td>2017-03-14 23:13:43</td>\n",
       "      <td>True</td>\n",
       "    </tr>\n",
       "  </tbody>\n",
       "</table>\n",
       "</div>"
      ],
      "text/plain": [
       "                                  first_date lastParticipationDate stillExists\n",
       "companyAlias             employee                                             \n",
       "58c6e15f32f72a00046f556c 58       2017-03-14   2017-03-14 23:13:43        True\n",
       "                         59       2017-03-14   2017-03-14 23:13:43        True\n",
       "                         60       2017-03-14   2017-03-20 14:29:20        True\n",
       "                         61       2017-03-14   2017-03-14 23:13:43        True"
      ]
     },
     "execution_count": 62,
     "metadata": {},
     "output_type": "execute_result"
    }
   ],
   "source": [
    "last_dates = lastpart.set_index(['companyAlias','employee'])[['lastParticipationDate','stillExists']].copy()\n",
    "dates = pd.merge(first_dates,last_dates,right_index=True,left_index=True,how='outer')\n",
    "dates.ix[-5:-1].head()"
   ]
  },
  {
   "cell_type": "markdown",
   "metadata": {},
   "source": [
    "## 2.2 Filtrering employees\n",
    "\n",
    "- We delete employees churned before 16 Feb 2017 (data collection ended).\n",
    "- We delete employees that started using the app after 1 feb 2017(prediction date).\n",
    "\n"
   ]
  },
  {
   "cell_type": "code",
   "execution_count": 63,
   "metadata": {
    "collapsed": true
   },
   "outputs": [],
   "source": [
    "prediction_date = '6 Feb 2017'\n",
    "data_collection_ended = '19 Feb 2017'"
   ]
  },
  {
   "cell_type": "code",
   "execution_count": 69,
   "metadata": {},
   "outputs": [],
   "source": [
    "c_first = dates['first_date']<=pd.to_datetime(prediction_date)\n",
    "c_last = dates['lastParticipationDate']>pd.to_datetime(data_collection_ended)\n",
    "users_index = dates[c_first&c_last].copy()"
   ]
  },
  {
   "cell_type": "code",
   "execution_count": 70,
   "metadata": {},
   "outputs": [
    {
     "data": {
      "text/plain": [
       "(21, 1694)"
      ]
     },
     "execution_count": 70,
     "metadata": {},
     "output_type": "execute_result"
    }
   ],
   "source": [
    "len(users_index.reset_index()['companyAlias'].unique()),len(users_index.index)"
   ]
  },
  {
   "cell_type": "markdown",
   "metadata": {},
   "source": [
    "This means that we will be dealing with 1710 employees across 21 different companies. You can see in the following plot the number of employees of every company. "
   ]
  },
  {
   "cell_type": "code",
   "execution_count": 57,
   "metadata": {},
   "outputs": [
    {
     "data": {
      "text/plain": [
       "<matplotlib.axes._subplots.AxesSubplot at 0x7f24573317b8>"
      ]
     },
     "execution_count": 57,
     "metadata": {},
     "output_type": "execute_result"
    },
    {
     "data": {
      "image/png": "[encoded data removed]",
      "text/plain": [
       "<matplotlib.figure.Figure at 0x7f244f65db00>"
      ]
     },
     "metadata": {},
     "output_type": "display_data"
    }
   ],
   "source": [
    "%matplotlib inline\n",
    "users_index.reset_index()['companyAlias'].value_counts().plot(kind='bar',\n",
    "                                                              figsize=(10,5),\n",
    "                                                              title='Employee distribution across companies')"
   ]
  },
  {
   "cell_type": "markdown",
   "metadata": {},
   "source": [
    "## 2.2 Calculating the target variable"
   ]
  },
  {
   "cell_type": "markdown",
   "metadata": {},
   "source": [
    "We will try to predict the future hapiness of an employee. We will model the future happiness as a binary variable that will be 1 if the mean vote score of an employee the next two weeks after the prediction date is greater than 2, and 0 otherwise."
   ]
  },
  {
   "cell_type": "code",
   "execution_count": 59,
   "metadata": {},
   "outputs": [
    {
     "data": {
      "text/html": [
       "<div>\n",
       "<table border=\"1\" class=\"dataframe\">\n",
       "  <thead>\n",
       "    <tr style=\"text-align: right;\">\n",
       "      <th></th>\n",
       "      <th>employee</th>\n",
       "      <th>companyAlias</th>\n",
       "      <th>voteDate</th>\n",
       "      <th>vote</th>\n",
       "    </tr>\n",
       "  </thead>\n",
       "  <tbody>\n",
       "    <tr>\n",
       "      <th>0</th>\n",
       "      <td>31</td>\n",
       "      <td>56aec740f1ef260003e307d6</td>\n",
       "      <td>2016-02-01</td>\n",
       "      <td>4</td>\n",
       "    </tr>\n",
       "    <tr>\n",
       "      <th>1</th>\n",
       "      <td>33</td>\n",
       "      <td>56aec740f1ef260003e307d6</td>\n",
       "      <td>2016-02-01</td>\n",
       "      <td>4</td>\n",
       "    </tr>\n",
       "    <tr>\n",
       "      <th>2</th>\n",
       "      <td>79</td>\n",
       "      <td>56aec740f1ef260003e307d6</td>\n",
       "      <td>2016-02-01</td>\n",
       "      <td>4</td>\n",
       "    </tr>\n",
       "    <tr>\n",
       "      <th>3</th>\n",
       "      <td>94</td>\n",
       "      <td>56aec740f1ef260003e307d6</td>\n",
       "      <td>2016-02-01</td>\n",
       "      <td>4</td>\n",
       "    </tr>\n",
       "    <tr>\n",
       "      <th>4</th>\n",
       "      <td>16</td>\n",
       "      <td>56aec740f1ef260003e307d6</td>\n",
       "      <td>2016-02-01</td>\n",
       "      <td>2</td>\n",
       "    </tr>\n",
       "    <tr>\n",
       "      <th>5</th>\n",
       "      <td>20</td>\n",
       "      <td>56aec740f1ef260003e307d6</td>\n",
       "      <td>2016-02-01</td>\n",
       "      <td>2</td>\n",
       "    </tr>\n",
       "    <tr>\n",
       "      <th>6</th>\n",
       "      <td>22</td>\n",
       "      <td>56aec740f1ef260003e307d6</td>\n",
       "      <td>2016-02-01</td>\n",
       "      <td>2</td>\n",
       "    </tr>\n",
       "    <tr>\n",
       "      <th>7</th>\n",
       "      <td>41</td>\n",
       "      <td>56aec740f1ef260003e307d6</td>\n",
       "      <td>2016-02-01</td>\n",
       "      <td>2</td>\n",
       "    </tr>\n",
       "    <tr>\n",
       "      <th>8</th>\n",
       "      <td>83</td>\n",
       "      <td>56aec740f1ef260003e307d6</td>\n",
       "      <td>2016-02-01</td>\n",
       "      <td>2</td>\n",
       "    </tr>\n",
       "    <tr>\n",
       "      <th>9</th>\n",
       "      <td>12</td>\n",
       "      <td>56aec740f1ef260003e307d6</td>\n",
       "      <td>2016-02-01</td>\n",
       "      <td>3</td>\n",
       "    </tr>\n",
       "    <tr>\n",
       "      <th>10</th>\n",
       "      <td>14</td>\n",
       "      <td>56aec740f1ef260003e307d6</td>\n",
       "      <td>2016-02-01</td>\n",
       "      <td>3</td>\n",
       "    </tr>\n",
       "    <tr>\n",
       "      <th>11</th>\n",
       "      <td>17</td>\n",
       "      <td>56aec740f1ef260003e307d6</td>\n",
       "      <td>2016-02-01</td>\n",
       "      <td>3</td>\n",
       "    </tr>\n",
       "    <tr>\n",
       "      <th>12</th>\n",
       "      <td>18</td>\n",
       "      <td>56aec740f1ef260003e307d6</td>\n",
       "      <td>2016-02-01</td>\n",
       "      <td>3</td>\n",
       "    </tr>\n",
       "    <tr>\n",
       "      <th>13</th>\n",
       "      <td>23</td>\n",
       "      <td>56aec740f1ef260003e307d6</td>\n",
       "      <td>2016-02-01</td>\n",
       "      <td>3</td>\n",
       "    </tr>\n",
       "    <tr>\n",
       "      <th>14</th>\n",
       "      <td>24</td>\n",
       "      <td>56aec740f1ef260003e307d6</td>\n",
       "      <td>2016-02-01</td>\n",
       "      <td>3</td>\n",
       "    </tr>\n",
       "    <tr>\n",
       "      <th>15</th>\n",
       "      <td>26</td>\n",
       "      <td>56aec740f1ef260003e307d6</td>\n",
       "      <td>2016-02-01</td>\n",
       "      <td>3</td>\n",
       "    </tr>\n",
       "    <tr>\n",
       "      <th>16</th>\n",
       "      <td>29</td>\n",
       "      <td>56aec740f1ef260003e307d6</td>\n",
       "      <td>2016-02-01</td>\n",
       "      <td>3</td>\n",
       "    </tr>\n",
       "    <tr>\n",
       "      <th>17</th>\n",
       "      <td>30</td>\n",
       "      <td>56aec740f1ef260003e307d6</td>\n",
       "      <td>2016-02-01</td>\n",
       "      <td>3</td>\n",
       "    </tr>\n",
       "    <tr>\n",
       "      <th>18</th>\n",
       "      <td>34</td>\n",
       "      <td>56aec740f1ef260003e307d6</td>\n",
       "      <td>2016-02-01</td>\n",
       "      <td>3</td>\n",
       "    </tr>\n",
       "    <tr>\n",
       "      <th>19</th>\n",
       "      <td>84</td>\n",
       "      <td>56aec740f1ef260003e307d6</td>\n",
       "      <td>2016-02-01</td>\n",
       "      <td>3</td>\n",
       "    </tr>\n",
       "    <tr>\n",
       "      <th>20</th>\n",
       "      <td>91</td>\n",
       "      <td>56aec740f1ef260003e307d6</td>\n",
       "      <td>2016-02-01</td>\n",
       "      <td>3</td>\n",
       "    </tr>\n",
       "    <tr>\n",
       "      <th>21</th>\n",
       "      <td>98</td>\n",
       "      <td>56aec740f1ef260003e307d6</td>\n",
       "      <td>2016-02-01</td>\n",
       "      <td>3</td>\n",
       "    </tr>\n",
       "    <tr>\n",
       "      <th>22</th>\n",
       "      <td>102</td>\n",
       "      <td>56aec740f1ef260003e307d6</td>\n",
       "      <td>2016-02-01</td>\n",
       "      <td>3</td>\n",
       "    </tr>\n",
       "    <tr>\n",
       "      <th>23</th>\n",
       "      <td>31</td>\n",
       "      <td>56aec740f1ef260003e307d6</td>\n",
       "      <td>2016-02-02</td>\n",
       "      <td>4</td>\n",
       "    </tr>\n",
       "    <tr>\n",
       "      <th>24</th>\n",
       "      <td>33</td>\n",
       "      <td>56aec740f1ef260003e307d6</td>\n",
       "      <td>2016-02-02</td>\n",
       "      <td>4</td>\n",
       "    </tr>\n",
       "    <tr>\n",
       "      <th>25</th>\n",
       "      <td>91</td>\n",
       "      <td>56aec740f1ef260003e307d6</td>\n",
       "      <td>2016-02-02</td>\n",
       "      <td>2</td>\n",
       "    </tr>\n",
       "    <tr>\n",
       "      <th>26</th>\n",
       "      <td>12</td>\n",
       "      <td>56aec740f1ef260003e307d6</td>\n",
       "      <td>2016-02-02</td>\n",
       "      <td>3</td>\n",
       "    </tr>\n",
       "    <tr>\n",
       "      <th>27</th>\n",
       "      <td>24</td>\n",
       "      <td>56aec740f1ef260003e307d6</td>\n",
       "      <td>2016-02-02</td>\n",
       "      <td>3</td>\n",
       "    </tr>\n",
       "    <tr>\n",
       "      <th>28</th>\n",
       "      <td>26</td>\n",
       "      <td>56aec740f1ef260003e307d6</td>\n",
       "      <td>2016-02-02</td>\n",
       "      <td>3</td>\n",
       "    </tr>\n",
       "    <tr>\n",
       "      <th>29</th>\n",
       "      <td>34</td>\n",
       "      <td>56aec740f1ef260003e307d6</td>\n",
       "      <td>2016-02-02</td>\n",
       "      <td>3</td>\n",
       "    </tr>\n",
       "    <tr>\n",
       "      <th>...</th>\n",
       "      <td>...</td>\n",
       "      <td>...</td>\n",
       "      <td>...</td>\n",
       "      <td>...</td>\n",
       "    </tr>\n",
       "    <tr>\n",
       "      <th>221202</th>\n",
       "      <td>18</td>\n",
       "      <td>58a728a0e75bda00042a3468</td>\n",
       "      <td>2017-03-20</td>\n",
       "      <td>4</td>\n",
       "    </tr>\n",
       "    <tr>\n",
       "      <th>221203</th>\n",
       "      <td>73</td>\n",
       "      <td>58a728a0e75bda00042a3468</td>\n",
       "      <td>2017-03-20</td>\n",
       "      <td>4</td>\n",
       "    </tr>\n",
       "    <tr>\n",
       "      <th>221204</th>\n",
       "      <td>80</td>\n",
       "      <td>58a728a0e75bda00042a3468</td>\n",
       "      <td>2017-03-20</td>\n",
       "      <td>4</td>\n",
       "    </tr>\n",
       "    <tr>\n",
       "      <th>221205</th>\n",
       "      <td>171</td>\n",
       "      <td>58a728a0e75bda00042a3468</td>\n",
       "      <td>2017-03-20</td>\n",
       "      <td>4</td>\n",
       "    </tr>\n",
       "    <tr>\n",
       "      <th>221206</th>\n",
       "      <td>276</td>\n",
       "      <td>58a728a0e75bda00042a3468</td>\n",
       "      <td>2017-03-20</td>\n",
       "      <td>4</td>\n",
       "    </tr>\n",
       "    <tr>\n",
       "      <th>221207</th>\n",
       "      <td>324</td>\n",
       "      <td>58a728a0e75bda00042a3468</td>\n",
       "      <td>2017-03-20</td>\n",
       "      <td>4</td>\n",
       "    </tr>\n",
       "    <tr>\n",
       "      <th>221208</th>\n",
       "      <td>382</td>\n",
       "      <td>58a728a0e75bda00042a3468</td>\n",
       "      <td>2017-03-20</td>\n",
       "      <td>4</td>\n",
       "    </tr>\n",
       "    <tr>\n",
       "      <th>221209</th>\n",
       "      <td>390</td>\n",
       "      <td>58a728a0e75bda00042a3468</td>\n",
       "      <td>2017-03-20</td>\n",
       "      <td>4</td>\n",
       "    </tr>\n",
       "    <tr>\n",
       "      <th>221210</th>\n",
       "      <td>443</td>\n",
       "      <td>58a728a0e75bda00042a3468</td>\n",
       "      <td>2017-03-20</td>\n",
       "      <td>4</td>\n",
       "    </tr>\n",
       "    <tr>\n",
       "      <th>221211</th>\n",
       "      <td>465</td>\n",
       "      <td>58a728a0e75bda00042a3468</td>\n",
       "      <td>2017-03-20</td>\n",
       "      <td>4</td>\n",
       "    </tr>\n",
       "    <tr>\n",
       "      <th>221212</th>\n",
       "      <td>469</td>\n",
       "      <td>58a728a0e75bda00042a3468</td>\n",
       "      <td>2017-03-20</td>\n",
       "      <td>4</td>\n",
       "    </tr>\n",
       "    <tr>\n",
       "      <th>221213</th>\n",
       "      <td>488</td>\n",
       "      <td>58a728a0e75bda00042a3468</td>\n",
       "      <td>2017-03-20</td>\n",
       "      <td>4</td>\n",
       "    </tr>\n",
       "    <tr>\n",
       "      <th>221214</th>\n",
       "      <td>490</td>\n",
       "      <td>58a728a0e75bda00042a3468</td>\n",
       "      <td>2017-03-20</td>\n",
       "      <td>4</td>\n",
       "    </tr>\n",
       "    <tr>\n",
       "      <th>221215</th>\n",
       "      <td>545</td>\n",
       "      <td>58a728a0e75bda00042a3468</td>\n",
       "      <td>2017-03-20</td>\n",
       "      <td>4</td>\n",
       "    </tr>\n",
       "    <tr>\n",
       "      <th>221216</th>\n",
       "      <td>574</td>\n",
       "      <td>58a728a0e75bda00042a3468</td>\n",
       "      <td>2017-03-20</td>\n",
       "      <td>4</td>\n",
       "    </tr>\n",
       "    <tr>\n",
       "      <th>221217</th>\n",
       "      <td>580</td>\n",
       "      <td>58a728a0e75bda00042a3468</td>\n",
       "      <td>2017-03-20</td>\n",
       "      <td>4</td>\n",
       "    </tr>\n",
       "    <tr>\n",
       "      <th>221218</th>\n",
       "      <td>591</td>\n",
       "      <td>58a728a0e75bda00042a3468</td>\n",
       "      <td>2017-03-20</td>\n",
       "      <td>4</td>\n",
       "    </tr>\n",
       "    <tr>\n",
       "      <th>221219</th>\n",
       "      <td>760</td>\n",
       "      <td>58a728a0e75bda00042a3468</td>\n",
       "      <td>2017-03-20</td>\n",
       "      <td>4</td>\n",
       "    </tr>\n",
       "    <tr>\n",
       "      <th>221220</th>\n",
       "      <td>788</td>\n",
       "      <td>58a728a0e75bda00042a3468</td>\n",
       "      <td>2017-03-20</td>\n",
       "      <td>4</td>\n",
       "    </tr>\n",
       "    <tr>\n",
       "      <th>221221</th>\n",
       "      <td>798</td>\n",
       "      <td>58a728a0e75bda00042a3468</td>\n",
       "      <td>2017-03-20</td>\n",
       "      <td>4</td>\n",
       "    </tr>\n",
       "    <tr>\n",
       "      <th>221222</th>\n",
       "      <td>803</td>\n",
       "      <td>58a728a0e75bda00042a3468</td>\n",
       "      <td>2017-03-20</td>\n",
       "      <td>4</td>\n",
       "    </tr>\n",
       "    <tr>\n",
       "      <th>221223</th>\n",
       "      <td>810</td>\n",
       "      <td>58a728a0e75bda00042a3468</td>\n",
       "      <td>2017-03-20</td>\n",
       "      <td>4</td>\n",
       "    </tr>\n",
       "    <tr>\n",
       "      <th>221224</th>\n",
       "      <td>17</td>\n",
       "      <td>573a0671b5ec330003add34a</td>\n",
       "      <td>2016-05-23</td>\n",
       "      <td>3</td>\n",
       "    </tr>\n",
       "    <tr>\n",
       "      <th>221225</th>\n",
       "      <td>17</td>\n",
       "      <td>573a0671b5ec330003add34a</td>\n",
       "      <td>2016-05-24</td>\n",
       "      <td>4</td>\n",
       "    </tr>\n",
       "    <tr>\n",
       "      <th>221226</th>\n",
       "      <td>17</td>\n",
       "      <td>573a0671b5ec330003add34a</td>\n",
       "      <td>2016-05-25</td>\n",
       "      <td>3</td>\n",
       "    </tr>\n",
       "    <tr>\n",
       "      <th>221227</th>\n",
       "      <td>17</td>\n",
       "      <td>573a0671b5ec330003add34a</td>\n",
       "      <td>2016-06-03</td>\n",
       "      <td>3</td>\n",
       "    </tr>\n",
       "    <tr>\n",
       "      <th>221228</th>\n",
       "      <td>17</td>\n",
       "      <td>573a0671b5ec330003add34a</td>\n",
       "      <td>2016-06-07</td>\n",
       "      <td>4</td>\n",
       "    </tr>\n",
       "    <tr>\n",
       "      <th>221229</th>\n",
       "      <td>17</td>\n",
       "      <td>573a0671b5ec330003add34a</td>\n",
       "      <td>2016-06-13</td>\n",
       "      <td>4</td>\n",
       "    </tr>\n",
       "    <tr>\n",
       "      <th>221230</th>\n",
       "      <td>17</td>\n",
       "      <td>573a0671b5ec330003add34a</td>\n",
       "      <td>2016-06-28</td>\n",
       "      <td>4</td>\n",
       "    </tr>\n",
       "    <tr>\n",
       "      <th>221231</th>\n",
       "      <td>19</td>\n",
       "      <td>573a0671b5ec330003add34a</td>\n",
       "      <td>2016-07-04</td>\n",
       "      <td>4</td>\n",
       "    </tr>\n",
       "  </tbody>\n",
       "</table>\n",
       "<p>221145 rows × 4 columns</p>\n",
       "</div>"
      ],
      "text/plain": [
       "        employee              companyAlias   voteDate  vote\n",
       "0             31  56aec740f1ef260003e307d6 2016-02-01     4\n",
       "1             33  56aec740f1ef260003e307d6 2016-02-01     4\n",
       "2             79  56aec740f1ef260003e307d6 2016-02-01     4\n",
       "3             94  56aec740f1ef260003e307d6 2016-02-01     4\n",
       "4             16  56aec740f1ef260003e307d6 2016-02-01     2\n",
       "5             20  56aec740f1ef260003e307d6 2016-02-01     2\n",
       "6             22  56aec740f1ef260003e307d6 2016-02-01     2\n",
       "7             41  56aec740f1ef260003e307d6 2016-02-01     2\n",
       "8             83  56aec740f1ef260003e307d6 2016-02-01     2\n",
       "9             12  56aec740f1ef260003e307d6 2016-02-01     3\n",
       "10            14  56aec740f1ef260003e307d6 2016-02-01     3\n",
       "11            17  56aec740f1ef260003e307d6 2016-02-01     3\n",
       "12            18  56aec740f1ef260003e307d6 2016-02-01     3\n",
       "13            23  56aec740f1ef260003e307d6 2016-02-01     3\n",
       "14            24  56aec740f1ef260003e307d6 2016-02-01     3\n",
       "15            26  56aec740f1ef260003e307d6 2016-02-01     3\n",
       "16            29  56aec740f1ef260003e307d6 2016-02-01     3\n",
       "17            30  56aec740f1ef260003e307d6 2016-02-01     3\n",
       "18            34  56aec740f1ef260003e307d6 2016-02-01     3\n",
       "19            84  56aec740f1ef260003e307d6 2016-02-01     3\n",
       "20            91  56aec740f1ef260003e307d6 2016-02-01     3\n",
       "21            98  56aec740f1ef260003e307d6 2016-02-01     3\n",
       "22           102  56aec740f1ef260003e307d6 2016-02-01     3\n",
       "23            31  56aec740f1ef260003e307d6 2016-02-02     4\n",
       "24            33  56aec740f1ef260003e307d6 2016-02-02     4\n",
       "25            91  56aec740f1ef260003e307d6 2016-02-02     2\n",
       "26            12  56aec740f1ef260003e307d6 2016-02-02     3\n",
       "27            24  56aec740f1ef260003e307d6 2016-02-02     3\n",
       "28            26  56aec740f1ef260003e307d6 2016-02-02     3\n",
       "29            34  56aec740f1ef260003e307d6 2016-02-02     3\n",
       "...          ...                       ...        ...   ...\n",
       "221202        18  58a728a0e75bda00042a3468 2017-03-20     4\n",
       "221203        73  58a728a0e75bda00042a3468 2017-03-20     4\n",
       "221204        80  58a728a0e75bda00042a3468 2017-03-20     4\n",
       "221205       171  58a728a0e75bda00042a3468 2017-03-20     4\n",
       "221206       276  58a728a0e75bda00042a3468 2017-03-20     4\n",
       "221207       324  58a728a0e75bda00042a3468 2017-03-20     4\n",
       "221208       382  58a728a0e75bda00042a3468 2017-03-20     4\n",
       "221209       390  58a728a0e75bda00042a3468 2017-03-20     4\n",
       "221210       443  58a728a0e75bda00042a3468 2017-03-20     4\n",
       "221211       465  58a728a0e75bda00042a3468 2017-03-20     4\n",
       "221212       469  58a728a0e75bda00042a3468 2017-03-20     4\n",
       "221213       488  58a728a0e75bda00042a3468 2017-03-20     4\n",
       "221214       490  58a728a0e75bda00042a3468 2017-03-20     4\n",
       "221215       545  58a728a0e75bda00042a3468 2017-03-20     4\n",
       "221216       574  58a728a0e75bda00042a3468 2017-03-20     4\n",
       "221217       580  58a728a0e75bda00042a3468 2017-03-20     4\n",
       "221218       591  58a728a0e75bda00042a3468 2017-03-20     4\n",
       "221219       760  58a728a0e75bda00042a3468 2017-03-20     4\n",
       "221220       788  58a728a0e75bda00042a3468 2017-03-20     4\n",
       "221221       798  58a728a0e75bda00042a3468 2017-03-20     4\n",
       "221222       803  58a728a0e75bda00042a3468 2017-03-20     4\n",
       "221223       810  58a728a0e75bda00042a3468 2017-03-20     4\n",
       "221224        17  573a0671b5ec330003add34a 2016-05-23     3\n",
       "221225        17  573a0671b5ec330003add34a 2016-05-24     4\n",
       "221226        17  573a0671b5ec330003add34a 2016-05-25     3\n",
       "221227        17  573a0671b5ec330003add34a 2016-06-03     3\n",
       "221228        17  573a0671b5ec330003add34a 2016-06-07     4\n",
       "221229        17  573a0671b5ec330003add34a 2016-06-13     4\n",
       "221230        17  573a0671b5ec330003add34a 2016-06-28     4\n",
       "221231        19  573a0671b5ec330003add34a 2016-07-04     4\n",
       "\n",
       "[221145 rows x 4 columns]"
      ]
     },
     "execution_count": 59,
     "metadata": {},
     "output_type": "execute_result"
    }
   ],
   "source": [
    "c_first = votes['voteDate']>pd.to_datetime(prediction_date)\n",
    "c_last = dates['lastParticipationDate']>pd.to_datetime(data_collection_ended)\n",
    "users_index = dates[c_first&c_last].copy()"
   ]
  },
  {
   "cell_type": "markdown",
   "metadata": {},
   "source": [
    "# 1. Employee features"
   ]
  },
  {
   "cell_type": "markdown",
   "metadata": {},
   "source": [
    "The are the features that realte to absolute employee metrics. "
   ]
  },
  {
   "cell_type": "markdown",
   "metadata": {},
   "source": [
    "## 2.1 vote features"
   ]
  },
  {
   "cell_type": "code",
   "execution_count": 6,
   "metadata": {
    "collapsed": true
   },
   "outputs": [],
   "source": [
    "\n",
    "vote_feats = votes.groupby(['uid'])['vote'].agg({'votes_1': lambda x: len(x[x==1]),\n",
    "                                                        'votes_2': lambda x: len(x[x==2]),\n",
    "                                                        'votes_3': lambda x: len(x[x==3]),\n",
    "                                                        'votes_4': lambda x: len(x[x==4]),\n",
    "                                                        'votes_mean': lambda x: x.mean(),\n",
    "                                                        'votes_std': lambda x: x.std(),\n",
    "                                                       'votes_num': lambda x: len(x),\n",
    "                                                       }).copy().fillna(0)"
   ]
  },
  {
   "cell_type": "markdown",
   "metadata": {},
   "source": [
    "## 2.2 Comments features"
   ]
  },
  {
   "cell_type": "code",
   "execution_count": 7,
   "metadata": {
    "collapsed": true,
    "scrolled": true
   },
   "outputs": [],
   "source": [
    "likes_feats = comments.groupby(['uid'])['likes'].agg({\n",
    "                                          'likes_mean': lambda x: len(x),\n",
    "                                          'likes_std': lambda x: x.std(),\n",
    "                                          'likes_sum': lambda x: x.sum(),\n",
    "                                                       })\n",
    "dislikes_feats = comments.groupby(['uid'])['dislikes'].agg({\n",
    "                                          'dislikes_mean': lambda x: len(x),\n",
    "                                          'dislikes_std': lambda x: x.std(),\n",
    "                                          'dislikes_sum': lambda x: x.sum(),\n",
    "                                                       })\n",
    "coms_feats = comments.dropna().groupby(['uid'])['comment'].agg({'com_num': lambda x: len(x),\n",
    "                                                             'com_mean': lambda x: x.apply(len).mean(),\n",
    "                                                             'com_std': lambda x: x.map(len).std(),\n",
    "                                                             'com_sum': lambda x: x.map(len).sum()})"
   ]
  },
  {
   "cell_type": "markdown",
   "metadata": {},
   "source": [
    "## 2.3 Merge all the features"
   ]
  },
  {
   "cell_type": "code",
   "execution_count": 8,
   "metadata": {
    "collapsed": true
   },
   "outputs": [],
   "source": [
    "features = pd.merge(vote_feats,likes_feats,left_index=True,right_index=True,how='outer')\n",
    "features = pd.merge(features,dislikes_feats,left_index=True,right_index=True,how='outer')\n",
    "features = pd.merge(features,coms_feats,left_index=True,right_index=True,how='outer')\n",
    "features = pd.merge(features,users_index.set_index('uid')[['churn','comp_short']],left_index=True,right_index=True,how='left').fillna(0)#fill users with 0 comments\n",
    "features.rename(columns={'comp_short':'comid'},inplace=True)\n",
    "E_features = features.copy()\n",
    "E_features.rename(columns=dict([(x,'E_'+str(x)) for x in E_features.columns]),inplace=True)\n"
   ]
  },
  {
   "cell_type": "code",
   "execution_count": null,
   "metadata": {
    "collapsed": true
   },
   "outputs": [],
   "source": []
  },
  {
   "cell_type": "code",
   "execution_count": null,
   "metadata": {
    "collapsed": true
   },
   "outputs": [],
   "source": []
  }
 ],
 "metadata": {
  "anaconda-cloud": {},
  "kernelspec": {
   "display_name": "Python [conda root]",
   "language": "python",
   "name": "conda-root-py"
  },
  "language_info": {
   "codemirror_mode": {
    "name": "ipython",
    "version": 3
   },
   "file_extension": ".py",
   "mimetype": "text/x-python",
   "name": "python",
   "nbconvert_exporter": "python",
   "pygments_lexer": "ipython3",
   "version": "3.5.3"
  }
 },
 "nbformat": 4,
 "nbformat_minor": 2
}
