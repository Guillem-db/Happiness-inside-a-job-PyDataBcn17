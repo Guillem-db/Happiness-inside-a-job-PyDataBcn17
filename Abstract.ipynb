{
 "cells": [
  {
   "cell_type": "markdown",
   "metadata": {},
   "source": [
    "## Happiness inside a job: a social network analysis\n",
    "\n",
    "Guillem Duran Ballester and Jose Berengueres\n",
    "\n",
    "\n",
    "In this talk, we will learn how to analyze social network data to predict employee turnover and employee happiness. This talk will be (una especie de resumen de los notebooks que hay colgados aqui[link]), where all the methodology followed is explained in depth.\n",
    "\n",
    "We will cover the following topics:\n",
    "* **From tables to graphs**: How to use pandas and networkx to merge several DataFrames into a graph. \n",
    "* **Graph features**: How to extract new features using social network analysis techniques such as Non-Negative Matrix Factorization and graph centrality metrics. We will explain what these features represent, and how they relate to other types of features that can be extracted directly from the database.\n",
    "* **Improving ML models**: How to use graph features to boost machine learning models. We will talk about different feature selection techniques that can be used to filter out the most significant set of graph-based features.\n",
    "* **Visualization**: How to visualize social interactions using bokeh, and how visualizatin techniques can be used to check data integrity.\n",
    "\n",
    "We will also review common mistakes that can happen during the modeling process and, how to prevent invalid data from getting leaked into your machine learning models. To conclude we compare the merits of using a Pyhton framework versus R Language in terms of development time and computational performance. Data set provided by myhappyforce.com\n",
    "\n"
   ]
  },
  {
   "cell_type": "code",
   "execution_count": null,
   "metadata": {
    "collapsed": true
   },
   "outputs": [],
   "source": []
  }
 ],
 "metadata": {
  "anaconda-cloud": {},
  "kernelspec": {
   "display_name": "Python [conda root]",
   "language": "python",
   "name": "conda-root-py"
  },
  "language_info": {
   "codemirror_mode": {
    "name": "ipython",
    "version": 3
   },
   "file_extension": ".py",
   "mimetype": "text/x-python",
   "name": "python",
   "nbconvert_exporter": "python",
   "pygments_lexer": "ipython3",
   "version": "3.5.3"
  }
 },
 "nbformat": 4,
 "nbformat_minor": 2
}
